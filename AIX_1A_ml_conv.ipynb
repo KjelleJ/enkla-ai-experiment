{
  "cells": [
    {
      "cell_type": "markdown",
      "metadata": {
        "id": "view-in-github",
        "colab_type": "text"
      },
      "source": [
        "<a href=\"https://colab.research.google.com/github/KjelleJ/enkla-ai-experiment/blob/main/AIX_1A_ml_conv.ipynb\" target=\"_parent\"><img src=\"https://colab.research.google.com/assets/colab-badge.svg\" alt=\"Open In Colab\"/></a>"
      ]
    },
    {
      "cell_type": "markdown",
      "source": [
        "---\n",
        "#Modell: Ett enkelt CNN (Convolutional Neural Network)\n",
        "\n",
        "###Samma problem som för **AIX_1_machine_learning** men nu med en bättre modell. Vi kommer att nå en noggrannhet på c:a 99% d.v.s. felet är halverat. Den här modellen tar längre tid att träna därför kommer vi att använda en GPU för träningen. Så här gör du för att allokera en GPU: **Anslut->Ändra körningstyp** och välj en GPU.\n",
        "---"
      ],
      "metadata": {
        "id": "hNCJhsThwsie"
      }
    },
    {
      "cell_type": "markdown",
      "source": [
        "---\n",
        "# Våra data: Dataset MNIST - handskrivna siffror 0-9.\n",
        "---\n",
        "\n"
      ],
      "metadata": {
        "id": "QihZedTK2CPJ"
      }
    },
    {
      "cell_type": "code",
      "execution_count": null,
      "metadata": {
        "id": "4uHVDrA_PYJw"
      },
      "outputs": [],
      "source": [
        "# Läs in dataset MNIST från Keras\n",
        "\n",
        "from keras.datasets import mnist\n",
        "(train_images, train_labels), (test_images, test_labels) = mnist.load_data()"
      ]
    },
    {
      "cell_type": "code",
      "execution_count": null,
      "metadata": {
        "id": "JrMRhGECPYJ1"
      },
      "outputs": [],
      "source": [
        "# träningsdata består av 60,000 bilder med 28x28 pixlar\n",
        "\n",
        "train_images.shape"
      ]
    },
    {
      "cell_type": "code",
      "execution_count": null,
      "metadata": {
        "id": "So_cQS7TPYJ2"
      },
      "outputs": [],
      "source": [
        "# till varje bild finns en label (0-9) som talar om siffran\n",
        "\n",
        "len(train_labels)"
      ]
    },
    {
      "cell_type": "code",
      "execution_count": null,
      "metadata": {
        "id": "Yvj70zq4PYJ5"
      },
      "outputs": [],
      "source": [
        "# vi använder testdata (10,000 bilder) för att utvärdera modellen\n",
        "\n",
        "test_images.shape"
      ]
    },
    {
      "cell_type": "code",
      "source": [
        "# även för varje testbild finns en label (0-9)\n",
        "\n",
        "len(test_labels)"
      ],
      "metadata": {
        "id": "Idh-_mqfQeRn"
      },
      "execution_count": null,
      "outputs": []
    },
    {
      "cell_type": "markdown",
      "source": [
        "---\n",
        "#En bättre modell: Ett enkelt CNN\n",
        "---\n",
        "Noggrannhet på testdata efter ungefär 5 epoker: 99% d.v.s. en halvering av felet."
      ],
      "metadata": {
        "id": "DUktMWVGzbEl"
      }
    },
    {
      "cell_type": "code",
      "source": [
        "from tensorflow import keras\n",
        "from tensorflow.keras import layers\n",
        "inputs = keras.Input(shape=(28, 28, 1))\n",
        "x = layers.Conv2D(filters=32, kernel_size=3, activation=\"relu\")(inputs)\n",
        "x = layers.MaxPooling2D(pool_size=2)(x)\n",
        "x = layers.Conv2D(filters=64, kernel_size=3, activation=\"relu\")(x)\n",
        "x = layers.MaxPooling2D(pool_size=2)(x)\n",
        "x = layers.Conv2D(filters=128, kernel_size=3, activation=\"relu\")(x)\n",
        "x = layers.Flatten()(x)\n",
        "outputs = layers.Dense(10, activation=\"softmax\")(x)\n",
        "model = keras.Model(inputs=inputs, outputs=outputs)"
      ],
      "metadata": {
        "id": "Vxvft0RnzX8N"
      },
      "execution_count": null,
      "outputs": []
    },
    {
      "cell_type": "code",
      "source": [
        "model.summary()"
      ],
      "metadata": {
        "id": "9uBrzHLEz4zR"
      },
      "execution_count": null,
      "outputs": []
    },
    {
      "cell_type": "code",
      "source": [
        "# kompilera modellen\n",
        "model.compile(optimizer=\"rmsprop\",\n",
        "    loss=\"sparse_categorical_crossentropy\",\n",
        "    metrics=[\"accuracy\"])"
      ],
      "metadata": {
        "id": "y3I57Z_2z5mJ"
      },
      "execution_count": null,
      "outputs": []
    },
    {
      "cell_type": "code",
      "source": [
        "# träna modellen med 64 bilder i taget. Kör igenom alla data 5 gånger\n",
        "model.fit(train_images, train_labels, epochs=5, batch_size=64)"
      ],
      "metadata": {
        "id": "LI8KIucRz6Gu"
      },
      "execution_count": null,
      "outputs": []
    },
    {
      "cell_type": "code",
      "source": [
        "test_loss, test_acc = model.evaluate(test_images, test_labels)\n",
        "print(f\"Test accuracy: {test_acc:.3f}\")"
      ],
      "metadata": {
        "id": "5SF_4hKRz6eC"
      },
      "execution_count": null,
      "outputs": []
    },
    {
      "cell_type": "markdown",
      "source": [
        "---\n",
        "#Felklassificerade bilder\n",
        "---\n",
        "D.v.s. bilder där prediktion och label är olika.\n"
      ],
      "metadata": {
        "id": "K_ZBX1-w_PeM"
      }
    },
    {
      "cell_type": "code",
      "source": [
        "# Funktion för att visa felklassificerade bilder\n",
        "import numpy as np\n",
        "import matplotlib.pyplot as plt\n",
        "\n",
        "def bad_pred(data, labels, maxfel):\n",
        "    ncorr = 0\n",
        "    nfel = 0\n",
        "    for i in range(len(data)):\n",
        "        image = data[i][np.newaxis]\n",
        "        predikt = model.predict(image, verbose=0).argmax()\n",
        "        if (predikt != labels[i]):\n",
        "            nfel = nfel + 1\n",
        "            print('-------------------------------------------------------')\n",
        "            plt.figure(figsize=(3, 2))\n",
        "            plt.imshow(data[i], cmap='gray')\n",
        "            plt.show()\n",
        "            print(\"Bild nr:\" + str(i))\n",
        "            print(\"Label:\" + str(labels[i]))\n",
        "            print(\"Prediktion:\" + str(predikt))\n",
        "            if (nfel >= maxfel):\n",
        "                break\n",
        "    print(\"Antal fel:\" + str(nfel))\n"
      ],
      "metadata": {
        "id": "WzSyTma_43gA"
      },
      "execution_count": null,
      "outputs": []
    },
    {
      "cell_type": "code",
      "source": [
        "# Visa 10 felklassificerade bilder\n",
        "bad_pred(test_images, test_labels, 10)"
      ],
      "metadata": {
        "id": "I7oIdQjM6rYQ"
      },
      "execution_count": null,
      "outputs": []
    }
  ],
  "metadata": {
    "colab": {
      "provenance": [],
      "gpuType": "T4",
      "include_colab_link": true
    },
    "kernelspec": {
      "display_name": "Python 3",
      "name": "python3"
    },
    "language_info": {
      "codemirror_mode": {
        "name": "ipython",
        "version": 3
      },
      "file_extension": ".py",
      "mimetype": "text/x-python",
      "name": "python",
      "nbconvert_exporter": "python",
      "pygments_lexer": "ipython3",
      "version": "3.7.0"
    },
    "accelerator": "GPU"
  },
  "nbformat": 4,
  "nbformat_minor": 0
}