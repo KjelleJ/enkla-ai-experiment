{
  "cells": [
    {
      "cell_type": "markdown",
      "metadata": {
        "id": "view-in-github",
        "colab_type": "text"
      },
      "source": [
        "<a href=\"https://colab.research.google.com/github/KjelleJ/enkla-ai-experiment/blob/main/AIX_1_machine_learning.ipynb\" target=\"_parent\"><img src=\"https://colab.research.google.com/assets/colab-badge.svg\" alt=\"Open In Colab\"/></a>"
      ]
    },
    {
      "cell_type": "markdown",
      "metadata": {
        "id": "ROYTOwfJPYJq"
      },
      "source": [
        "# Machine Learning / Maskininlärning\n",
        "Du kommer inte att förstå allt här men det viktiga är att du får en uppfattning om hur maskinilärning funkar.\n",
        "\n",
        "---\n",
        "**Först en enkel beskrivning: träna en modell som kan skilja på bilder av katter och hundar.**\n"
      ]
    },
    {
      "cell_type": "code",
      "source": [
        "from IPython.display import Image\n",
        " # get the image\n",
        "Image(url=\"https://www.download.gubboit.se/L2-training.JPG\", width=600, height=400)\n"
      ],
      "metadata": {
        "id": "3nG5KrmwUtQ_"
      },
      "execution_count": null,
      "outputs": []
    },
    {
      "cell_type": "markdown",
      "source": [
        "**1)** Först läser programmet in en otränad prototyp av modellen. Prototypmodellen har en viss arkitektur men innehåller bara slumpade värden (kallas vikter). De framslumpade vikterna ska sedan tränas upp så att modellen blir användbar.\n",
        "\n",
        "**2)** Programmet läser in en bild. Till bilden hör en etikett (label) som talar om vad bilden visar.\n",
        "\n",
        "**3)** Bilden stoppas in i modellen och vi får ett resultat d.v.s. katt eller hund.\n",
        "\n",
        "**4)** Resultatet jämförs med etiketten som hör till bilden. Nu justeras vikterna inuti modellen så att resultatet ska bli bättre vid nästa varv.\n",
        "\n",
        "**5)** Nu är det dags för ett nytt varv i träningen, en ny bild.\n",
        "\n",
        "**6)** När resultatet är tillräckligt bra eller inte blir bättre avbryter vi träningen och vi har nu en färdigtränad modell. Modellen är en fil med en viss struktur. Modellen kan användas i applikationer av olika slag."
      ],
      "metadata": {
        "id": "xbK9be2OrUwl"
      }
    },
    {
      "cell_type": "code",
      "source": [
        "# TensorFlow version. JNB är framtagen med TensorFlow 2.15.\n",
        "import tensorflow as tf\n",
        "tf.__version__"
      ],
      "metadata": {
        "id": "W09-svcXKxA3"
      },
      "execution_count": null,
      "outputs": []
    },
    {
      "cell_type": "markdown",
      "source": [
        "---\n",
        "## Vi skapar, tränar och använder en enkel modell för klassificering av handskrivna siffror 0-9.\n",
        "---\n",
        "## Våra data\n",
        "\n"
      ],
      "metadata": {
        "id": "QihZedTK2CPJ"
      }
    },
    {
      "cell_type": "code",
      "execution_count": null,
      "metadata": {
        "id": "4uHVDrA_PYJw"
      },
      "outputs": [],
      "source": [
        "# Läs in dataset MNIST från Keras\n",
        "\n",
        "from keras.datasets import mnist\n",
        "(train_images, train_labels), (test_images, test_labels) = mnist.load_data()"
      ]
    },
    {
      "cell_type": "code",
      "execution_count": null,
      "metadata": {
        "id": "JrMRhGECPYJ1"
      },
      "outputs": [],
      "source": [
        "# träningsdata består av 60,000 bilder med 28x28 pixlar\n",
        "\n",
        "train_images.shape"
      ]
    },
    {
      "cell_type": "code",
      "execution_count": null,
      "metadata": {
        "id": "So_cQS7TPYJ2"
      },
      "outputs": [],
      "source": [
        "# till varje bild finns en label (0-9) som talar om siffran\n",
        "\n",
        "len(train_labels)"
      ]
    },
    {
      "cell_type": "code",
      "execution_count": null,
      "metadata": {
        "id": "_csYEkzdPYJ4"
      },
      "outputs": [],
      "source": [
        "# första och sista labels för träning\n",
        "\n",
        "train_labels"
      ]
    },
    {
      "cell_type": "code",
      "source": [
        "# plotta de 3 första siffrorna i träningsdata\n",
        "import matplotlib.pyplot as plt\n",
        "plt.figure(figsize=(6, 4))\n",
        "plt.subplot(1, 3, 1)\n",
        "plt.imshow(train_images[0], cmap='gray')\n",
        "plt.subplot(1, 3, 2)\n",
        "plt.imshow(train_images[1], cmap='gray')\n",
        "plt.subplot(1, 3, 3)\n",
        "plt.imshow(train_images[2], cmap='gray')\n",
        "plt.show()"
      ],
      "metadata": {
        "id": "uOK0g_CvqyUF"
      },
      "execution_count": null,
      "outputs": []
    },
    {
      "cell_type": "code",
      "execution_count": null,
      "metadata": {
        "id": "Yvj70zq4PYJ5"
      },
      "outputs": [],
      "source": [
        "# vi använder testdata (10,000 bilder) för att utvärdera modellen\n",
        "\n",
        "test_images.shape"
      ]
    },
    {
      "cell_type": "code",
      "source": [
        "# även för varje testbild finns en label (0-9)\n",
        "\n",
        "len(test_labels)"
      ],
      "metadata": {
        "id": "Idh-_mqfQeRn"
      },
      "execution_count": null,
      "outputs": []
    },
    {
      "cell_type": "code",
      "execution_count": null,
      "metadata": {
        "id": "rq1LhXpSPYJ8"
      },
      "outputs": [],
      "source": [
        "# första och sista labels för test\n",
        "\n",
        "test_labels"
      ]
    },
    {
      "cell_type": "markdown",
      "metadata": {
        "id": "0RlE_TQ9PYJ9"
      },
      "source": [
        "---\n",
        "## Vår modell"
      ]
    },
    {
      "cell_type": "code",
      "execution_count": null,
      "metadata": {
        "id": "wzEHt3TfPYJ-"
      },
      "outputs": [],
      "source": [
        "# definiera modellen\n",
        "from tensorflow import keras\n",
        "from keras import layers\n",
        "model = keras.Sequential([\n",
        "    layers.Dense(512, activation=\"relu\"),\n",
        "    layers.Dense(10, activation=\"softmax\")\n",
        "])"
      ]
    },
    {
      "cell_type": "code",
      "execution_count": null,
      "metadata": {
        "id": "guk1RQOaPYJ_"
      },
      "outputs": [],
      "source": [
        "# definiera optimizer, loss-funktion och metrics\n",
        "# optimzer och loss styr tillsammans hur modellen uppdateras under träningen.\n",
        "# metrics visar hur bra modellen är.\n",
        "model.compile(optimizer=\"rmsprop\",\n",
        "              loss=\"sparse_categorical_crossentropy\",\n",
        "              metrics=[\"accuracy\"])"
      ]
    },
    {
      "cell_type": "code",
      "execution_count": null,
      "metadata": {
        "id": "fHGuU8_uPYKB"
      },
      "outputs": [],
      "source": [
        "# preparera bilderna så att de passar modellen\n",
        "# platta ut bilderna\n",
        "train_images = train_images.reshape((60000, 28 * 28))\n",
        "# normalisera och gör om till flyttal\n",
        "train_images = train_images.astype(\"float32\") / 255\n",
        "print(train_images.shape)\n",
        "test_images = test_images.reshape((10000, 28 * 28))\n",
        "test_images = test_images.astype(\"float32\") / 255"
      ]
    },
    {
      "cell_type": "code",
      "source": [
        "# bygg modellen\n",
        "model.build(input_shape=(None, 28*28))"
      ],
      "metadata": {
        "id": "j4xcWhNcWVw4"
      },
      "execution_count": null,
      "outputs": []
    },
    {
      "cell_type": "code",
      "source": [
        "# sammanfattning av modellen - totalt 407,050 vikter i 2 lager\n",
        "model.summary()"
      ],
      "metadata": {
        "id": "OOe3pYDbW16f"
      },
      "execution_count": null,
      "outputs": []
    },
    {
      "cell_type": "code",
      "source": [
        "# mycket dålig noggrannheten för den otränade modellen\n",
        "test_loss, test_acc = model.evaluate(test_images, test_labels)\n",
        "print(f\"test_acc: {test_acc}\")"
      ],
      "metadata": {
        "id": "2P20nz5tXLiy"
      },
      "execution_count": null,
      "outputs": []
    },
    {
      "cell_type": "markdown",
      "source": [
        "---\n",
        "## Träna modellen"
      ],
      "metadata": {
        "id": "IZS-91sQ5gN5"
      }
    },
    {
      "cell_type": "code",
      "execution_count": null,
      "metadata": {
        "id": "aq-p2vUzPYKC"
      },
      "outputs": [],
      "source": [
        "# träna modellen i 5 epoker - en epok använder alla tränings-bilder\n",
        "model.fit(train_images, train_labels, epochs=5, batch_size=128)"
      ]
    },
    {
      "cell_type": "markdown",
      "metadata": {
        "id": "l62Vt0USPYKD"
      },
      "source": [
        "---\n",
        "## Använd modellen"
      ]
    },
    {
      "cell_type": "code",
      "execution_count": null,
      "metadata": {
        "id": "_q-H_kDhPYKD"
      },
      "outputs": [],
      "source": [
        "# använd modellen för de 10 första testbilderna\n",
        "test_digits = test_images[0:10]\n",
        "predictions = model.predict(test_digits)\n",
        "# första testbilden\n",
        "predictions[0]"
      ]
    },
    {
      "cell_type": "code",
      "execution_count": null,
      "metadata": {
        "id": "bJg0BMPePYKE"
      },
      "outputs": [],
      "source": [
        "# argmax ger index för största värdet för första testbilden\n",
        "predictions[0].argmax()"
      ]
    },
    {
      "cell_type": "code",
      "execution_count": null,
      "metadata": {
        "id": "gLF9kuPSPYKF"
      },
      "outputs": [],
      "source": [
        "# det största värdet för första testbilden\n",
        "predictions[0][7]"
      ]
    },
    {
      "cell_type": "code",
      "execution_count": null,
      "metadata": {
        "id": "i3OtTMODPYKF"
      },
      "outputs": [],
      "source": [
        "# label säger att första testbilden är en sjua\n",
        "test_labels[0]"
      ]
    },
    {
      "cell_type": "code",
      "source": [
        "# test-lables för de 10 första testbilderna\n",
        "test_labels[0:10]"
      ],
      "metadata": {
        "id": "AaJ8eRrnCcCR"
      },
      "execution_count": null,
      "outputs": []
    },
    {
      "cell_type": "code",
      "source": [
        "# vad modellen säger om de 10 första testbilderna\n",
        "preds = []\n",
        "for prediction in predictions: preds.append(prediction.argmax())\n",
        "preds"
      ],
      "metadata": {
        "id": "_pyAgiXmAkar"
      },
      "execution_count": null,
      "outputs": []
    },
    {
      "cell_type": "markdown",
      "metadata": {
        "id": "i0lf07Q2PYKG"
      },
      "source": [
        "---\n",
        "## Utvärdera modellen på alla testbilder"
      ]
    },
    {
      "cell_type": "code",
      "execution_count": null,
      "metadata": {
        "id": "IC9LdSzvPYKG"
      },
      "outputs": [],
      "source": [
        "# mycket bättre nogrannhet med en tränad modell\n",
        "test_loss, test_acc = model.evaluate(test_images, test_labels)\n",
        "print(f\"test_acc: {test_acc}\")"
      ]
    },
    {
      "cell_type": "markdown",
      "metadata": {
        "id": "Rdlqf7eWPYKh"
      },
      "source": [
        "---\n",
        "## Prova på den här appen\n",
        "Appen klassificerar handritade siffror. Rita en siffra 0-9 eller något annat och tryck på **Predict**-knappen.\n",
        "\n",
        "https://gubboit.se/digitapp/"
      ]
    },
    {
      "cell_type": "code",
      "execution_count": null,
      "metadata": {
        "id": "heCMjrsIPYKi"
      },
      "outputs": [],
      "source": []
    }
  ],
  "metadata": {
    "colab": {
      "provenance": [],
      "include_colab_link": true
    },
    "kernelspec": {
      "display_name": "Python 3",
      "language": "python",
      "name": "python3"
    },
    "language_info": {
      "codemirror_mode": {
        "name": "ipython",
        "version": 3
      },
      "file_extension": ".py",
      "mimetype": "text/x-python",
      "name": "python",
      "nbconvert_exporter": "python",
      "pygments_lexer": "ipython3",
      "version": "3.7.0"
    }
  },
  "nbformat": 4,
  "nbformat_minor": 0
}