{
  "cells": [
    {
      "cell_type": "markdown",
      "metadata": {
        "id": "view-in-github",
        "colab_type": "text"
      },
      "source": [
        "<a href=\"https://colab.research.google.com/github/KjelleJ/enkla-ai-experiment/blob/main/AIX_3_style_transfer.ipynb\" target=\"_parent\"><img src=\"https://colab.research.google.com/assets/colab-badge.svg\" alt=\"Open In Colab\"/></a>"
      ]
    },
    {
      "cell_type": "markdown",
      "source": [
        "---\n",
        "#**FAST STYLE TRANSFER**\n",
        "---\n",
        "\n",
        "**\"Start-bild\" + \"stil-bild\" => \"Start-bild\" med stil från \"stil-bild\"**\n",
        "\n",
        "Med Style Transfer kan vi skapa spännande eller vackra bilder.\n",
        "\n",
        "\n"
      ],
      "metadata": {
        "id": "lkFOZxxevq2y"
      },
      "id": "lkFOZxxevq2y"
    },
    {
      "cell_type": "code",
      "execution_count": null,
      "id": "intermediate-server",
      "metadata": {
        "id": "intermediate-server"
      },
      "outputs": [],
      "source": [
        "import tensorflow as tf\n",
        "import tensorflow_hub as hub\n",
        "import matplotlib.pyplot as plt\n",
        "import numpy as np"
      ]
    },
    {
      "cell_type": "markdown",
      "source": [
        "---\n",
        "## Våra bilder\n",
        "---"
      ],
      "metadata": {
        "id": "9uuQ3K_wmow2"
      },
      "id": "9uuQ3K_wmow2"
    },
    {
      "cell_type": "code",
      "source": [
        "import requests\n",
        "import os\n",
        "\n",
        "# hämta från url, lagra som lokal fil\n",
        "def get_img_to_file(url, path):\n",
        "  img_data = requests.get(url).content\n",
        "  with open(path, 'wb') as handler:\n",
        "      handler.write(img_data)\n",
        "\n",
        "get_img_to_file(\"https://www.download.gubboit.se/the-animals.JPG\", \"the-animals\")\n",
        "get_img_to_file(\"https://www.download.gubboit.se/hilma-af-klint.JPG\", \"hilma-af-klint\")\n",
        "get_img_to_file(\"https://www.download.gubboit.se/john-bauer-troll.JPG\", \"john-bauer\")\n",
        "get_img_to_file(\"https://www.download.gubboit.se/weeping-woman.jpg\", \"picasso\")"
      ],
      "metadata": {
        "id": "sXe3S7dVDlrz"
      },
      "id": "sXe3S7dVDlrz",
      "execution_count": null,
      "outputs": []
    },
    {
      "cell_type": "code",
      "source": [
        "plt.imshow(plt.imread('the-animals'))"
      ],
      "metadata": {
        "id": "oPMkxqfDyIW4"
      },
      "id": "oPMkxqfDyIW4",
      "execution_count": null,
      "outputs": []
    },
    {
      "cell_type": "code",
      "source": [
        "plt.imshow(plt.imread('hilma-af-klint'))"
      ],
      "metadata": {
        "id": "xlHyUPllyIHH"
      },
      "id": "xlHyUPllyIHH",
      "execution_count": null,
      "outputs": []
    },
    {
      "cell_type": "code",
      "source": [
        "plt.imshow(plt.imread('john-bauer'))"
      ],
      "metadata": {
        "id": "wwfQGV5tyH03"
      },
      "id": "wwfQGV5tyH03",
      "execution_count": null,
      "outputs": []
    },
    {
      "cell_type": "code",
      "source": [
        "plt.imshow(plt.imread('picasso'))"
      ],
      "metadata": {
        "id": "xwI6iDEEyHg8"
      },
      "id": "xwI6iDEEyHg8",
      "execution_count": null,
      "outputs": []
    },
    {
      "cell_type": "markdown",
      "id": "direct-bandwidth",
      "metadata": {
        "id": "direct-bandwidth"
      },
      "source": [
        "# Plotfunktioner - plottar bilderna"
      ]
    },
    {
      "cell_type": "code",
      "execution_count": null,
      "id": "stunning-sixth",
      "metadata": {
        "id": "stunning-sixth"
      },
      "outputs": [],
      "source": [
        "def img_in_plot(content_image, style_image):\n",
        "\n",
        "    plt.figure(figsize=(8, 8))\n",
        "    plt.subplot(1, 2, 1)\n",
        "    plt.imshow(content_image)\n",
        "    plt.title('Start-bild')\n",
        "    plt.subplot(1, 2, 2)\n",
        "    plt.imshow(style_image)\n",
        "    plt.title('Stil-bild')\n",
        "\n",
        "    plt.show()"
      ]
    },
    {
      "cell_type": "code",
      "execution_count": null,
      "id": "colored-inquiry",
      "metadata": {
        "id": "colored-inquiry"
      },
      "outputs": [],
      "source": [
        "def img_out_plot(stylized_image):\n",
        "    fig,ax = plt.subplots(1)\n",
        "    #fig.subplots_adjust(left=0,right=1,bottom=0,top=1)\n",
        "    ax.axis('off')\n",
        "    plt.imshow(stylized_image[0])\n",
        "    plt.axis('off')\n",
        "    ax.axis('off')\n",
        "    # spara stylized på filen stylized.jpg\n",
        "    fig.savefig('stylized.jpg', dpi=\"figure\", bbox_inches='tight', pad_inches=0)"
      ]
    },
    {
      "cell_type": "markdown",
      "id": "norwegian-freedom",
      "metadata": {
        "id": "norwegian-freedom"
      },
      "source": [
        "# Style transfer av en bild\n",
        "Exempelkod från\n",
        "https://tfhub.dev/google/magenta/arbitrary-image-stylization-v1-256/2"
      ]
    },
    {
      "cell_type": "code",
      "execution_count": null,
      "id": "surface-promotion",
      "metadata": {
        "id": "surface-promotion"
      },
      "outputs": [],
      "source": [
        "# Funktionen style_transfer är samma som exempelkoden i tfhub men med plottning av bilderna\n",
        "def style_transfer(content_path, style_path):\n",
        "     # Load content and style images (see example in the attached colab).\n",
        "    content_image = plt.imread(content_path)\n",
        "    style_image = plt.imread(style_path)\n",
        "    img_in_plot(content_image, style_image)\n",
        "    # Convert to float32 numpy array, add batch dimension, and normalize to range [0, 1]. Example using numpy:\n",
        "    content_image = content_image.astype(np.float32)[np.newaxis, ...] / 255.\n",
        "    style_image = style_image.astype(np.float32)[np.newaxis, ...] / 255.\n",
        "    # Optionally resize the images. It is recommended that the style image is about\n",
        "    # 256 pixels (this size was used when training the style transfer network).\n",
        "    # The content image can be any size.\n",
        "    style_image = tf.image.resize(style_image, (256, 256))\n",
        "\n",
        "    # Stylize image.\n",
        "    outputs = hub_module(tf.constant(content_image), tf.constant(style_image))\n",
        "    stylized_image = outputs[0]\n",
        "    img_out_plot(stylized_image)"
      ]
    },
    {
      "cell_type": "markdown",
      "id": "chinese-occasions",
      "metadata": {
        "id": "chinese-occasions"
      },
      "source": [
        "## Ladda arbitrary-image-stylization"
      ]
    },
    {
      "cell_type": "code",
      "execution_count": null,
      "id": "paperback-distance",
      "metadata": {
        "scrolled": false,
        "id": "paperback-distance"
      },
      "outputs": [],
      "source": [
        "# Om fel \"tf hub OSError: SavedModel file does not exist at\" ta bort foldern och kör om...\n",
        "# /1 eller /2 (del av versionen) ger olika resultat. Jag föredrar /1 men pröva gärna /2\n",
        "\n",
        "# Load Magenta's Arbitrary Image Stylization network from TensorFlow Hub\n",
        "hub_module = hub.load('https://tfhub.dev/google/magenta/arbitrary-image-stylization-v1-256/1')"
      ]
    },
    {
      "cell_type": "markdown",
      "id": "changing-population",
      "metadata": {
        "id": "changing-population"
      },
      "source": [
        "---\n",
        "# Experimentera med olika start-bilder och stil-bilder\n",
        "---\n",
        "Använd funktionen **style_transfer(start-bild, stil-bild)**. Resultatet lagras i filen **stylized.jpg** som kan användas för ytterligare experiment.\n",
        "\n",
        "För att slå av/på scrollning inom cell: Klicka till vänster i cellen men utanför bilden"
      ]
    },
    {
      "cell_type": "code",
      "execution_count": null,
      "id": "invisible-guidance",
      "metadata": {
        "scrolled": false,
        "id": "invisible-guidance"
      },
      "outputs": [],
      "source": [
        "# style_transfer(start-bild, stil-bild)\n",
        "style_transfer(\"the-animals\", \"picasso\")"
      ]
    },
    {
      "cell_type": "code",
      "source": [
        "# style_transfer(start-bild, stil-bild)\n",
        "style_transfer(\"the-animals\", \"hilma-af-klint\")\n",
        "\n",
        "\n"
      ],
      "metadata": {
        "id": "WXCjePjXmE44"
      },
      "id": "WXCjePjXmE44",
      "execution_count": null,
      "outputs": []
    },
    {
      "cell_type": "code",
      "source": [
        "style_transfer(\"the-animals\",\"john-bauer\")"
      ],
      "metadata": {
        "id": "GIj4-mlraWT-"
      },
      "id": "GIj4-mlraWT-",
      "execution_count": null,
      "outputs": []
    },
    {
      "cell_type": "code",
      "source": [
        "style_transfer(\"picasso\", \"hilma-af-klint\")"
      ],
      "metadata": {
        "id": "Rs9SXUmJatfJ"
      },
      "id": "Rs9SXUmJatfJ",
      "execution_count": null,
      "outputs": []
    },
    {
      "cell_type": "code",
      "source": [
        "style_transfer(\"stylized.jpg\", \"hilma-af-klint\")"
      ],
      "metadata": {
        "id": "xqaxpK1EWITJ"
      },
      "id": "xqaxpK1EWITJ",
      "execution_count": null,
      "outputs": []
    },
    {
      "cell_type": "code",
      "source": [
        "style_transfer(\"picasso\", \"picasso\")"
      ],
      "metadata": {
        "id": "j_eEXmqtENTW"
      },
      "id": "j_eEXmqtENTW",
      "execution_count": null,
      "outputs": []
    },
    {
      "cell_type": "code",
      "source": [
        "style_transfer(\"john-bauer\", \"hilma-af-klint\")"
      ],
      "metadata": {
        "id": "XmgjA_lRZEZl"
      },
      "id": "XmgjA_lRZEZl",
      "execution_count": null,
      "outputs": []
    },
    {
      "cell_type": "code",
      "source": [
        "style_transfer(\"john-bauer\", \"picasso\")"
      ],
      "metadata": {
        "id": "OfDFLBwxkxiZ"
      },
      "id": "OfDFLBwxkxiZ",
      "execution_count": null,
      "outputs": []
    },
    {
      "cell_type": "code",
      "source": [],
      "metadata": {
        "id": "RyB9ykWnfd0Z"
      },
      "id": "RyB9ykWnfd0Z",
      "execution_count": null,
      "outputs": []
    },
    {
      "cell_type": "markdown",
      "source": [
        "---\n",
        "#Egna bilder. Hämta från nätet.\n",
        "---"
      ],
      "metadata": {
        "id": "I8ZL-rCYSIR9"
      },
      "id": "I8ZL-rCYSIR9"
    },
    {
      "cell_type": "code",
      "source": [
        "# Hämta egna bilder. 1)Hitta en bild 2) Högerklicka på bilden och välj 'Kopiera bildadress\n",
        "# 3) Kopiera (ctrl-v) in bildadressen i stället för \"http://www.....jpg\"\n",
        "get_img_to_file(\"https://cdn.cnn.com/cnnnext/dam/assets/210113140558-02-trump-impeachment-centered-full-169.jpg\", \"trump\")"
      ],
      "metadata": {
        "id": "YgDEQJeqR6K0"
      },
      "id": "YgDEQJeqR6K0",
      "execution_count": null,
      "outputs": []
    },
    {
      "cell_type": "code",
      "source": [
        "plt.imshow(plt.imread('trump'))"
      ],
      "metadata": {
        "id": "vIJ31xkxR7BH"
      },
      "id": "vIJ31xkxR7BH",
      "execution_count": null,
      "outputs": []
    },
    {
      "cell_type": "code",
      "source": [
        "style_transfer(\"trump\", \"picasso\")"
      ],
      "metadata": {
        "id": "j3rO_wFFR4dj"
      },
      "id": "j3rO_wFFR4dj",
      "execution_count": null,
      "outputs": []
    },
    {
      "cell_type": "code",
      "source": [
        "style_transfer(\"trump\", \"hilma-af-klint\")"
      ],
      "metadata": {
        "id": "dfMSzAKGTXZl"
      },
      "id": "dfMSzAKGTXZl",
      "execution_count": null,
      "outputs": []
    },
    {
      "cell_type": "code",
      "source": [
        "style_transfer(\"stylized.jpg\", \"hilma-af-klint\")"
      ],
      "metadata": {
        "id": "yiezk-b1Tn7X"
      },
      "id": "yiezk-b1Tn7X",
      "execution_count": null,
      "outputs": []
    },
    {
      "cell_type": "markdown",
      "source": [
        "\n",
        "\n",
        "---\n",
        "\n",
        "\n",
        "# En hel video kan konverteras med style transfer. Här finns några exempel:\n",
        "https://gubboit.se/videos.html"
      ],
      "metadata": {
        "id": "jARtgXSIXkJu"
      },
      "id": "jARtgXSIXkJu"
    }
  ],
  "metadata": {
    "kernelspec": {
      "display_name": "Python 3 (ipykernel)",
      "language": "python",
      "name": "python3"
    },
    "language_info": {
      "codemirror_mode": {
        "name": "ipython",
        "version": 3
      },
      "file_extension": ".py",
      "mimetype": "text/x-python",
      "name": "python",
      "nbconvert_exporter": "python",
      "pygments_lexer": "ipython3",
      "version": "3.7.13"
    },
    "colab": {
      "provenance": [],
      "include_colab_link": true
    }
  },
  "nbformat": 4,
  "nbformat_minor": 5
}