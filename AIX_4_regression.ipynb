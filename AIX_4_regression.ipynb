{
  "cells": [
    {
      "cell_type": "markdown",
      "metadata": {
        "id": "view-in-github",
        "colab_type": "text"
      },
      "source": [
        "<a href=\"https://colab.research.google.com/github/KjelleJ/enkla-ai-experiment/blob/main/AIX_4_regression.ipynb\" target=\"_parent\"><img src=\"https://colab.research.google.com/assets/colab-badge.svg\" alt=\"Open In Colab\"/></a>"
      ]
    },
    {
      "cell_type": "markdown",
      "id": "modified-psychiatry",
      "metadata": {
        "id": "modified-psychiatry"
      },
      "source": [
        "---\n",
        "# REGRESSION: En regressionsmodell förutsäger ett kontinuerligt numeriskt värde.\n",
        "---\n",
        "## Ett enkelt exempel: Genomsnittslängden av svenska rekryter 1845-1967\n",
        "https://gupea.ub.gu.se/bitstream/2077/854/1/Historisk%20statistik%20Del%201.pdf Tabell 56"
      ]
    },
    {
      "cell_type": "code",
      "execution_count": null,
      "id": "abroad-forward",
      "metadata": {
        "id": "abroad-forward"
      },
      "outputs": [],
      "source": [
        "#import pandas as pd\n",
        "import numpy as np\n",
        "import matplotlib.pyplot as plt"
      ]
    },
    {
      "cell_type": "markdown",
      "id": "revolutionary-actor",
      "metadata": {
        "id": "revolutionary-actor"
      },
      "source": [
        "### Våra datapunkter - från SCB"
      ]
    },
    {
      "cell_type": "code",
      "execution_count": null,
      "id": "military-senator",
      "metadata": {
        "id": "military-senator"
      },
      "outputs": [],
      "source": [
        "rekryter = np.array([[1845,167.4],[1850,167.4],[1855,167.8],[1860,168.1],[1865,168.5],[1870,169.6],\n",
        "                    [1890,169.2],[1895,169.6],[1900,170.1],\n",
        "                    [1905,170.8],[1910,171.6],[1915,172.0],[1920,171.7],[1925,172.1],[1930,172.7],\n",
        "                    [1935,173.2],[1940,174.2],[1945,174.5],[1950,175.0],[1955,175.7],[1960,176.1],\n",
        "                    [1965,177.4],[1966,177.7],[1967,177.7]])"
      ]
    },
    {
      "cell_type": "code",
      "execution_count": null,
      "id": "intellectual-benchmark",
      "metadata": {
        "id": "intellectual-benchmark"
      },
      "outputs": [],
      "source": [
        "rekryter"
      ]
    },
    {
      "cell_type": "code",
      "execution_count": null,
      "id": "conscious-salmon",
      "metadata": {
        "id": "conscious-salmon"
      },
      "outputs": [],
      "source": [
        "# plotta datapunkterna\n",
        "plt.scatter(rekryter[:,[0]], rekryter[:,[1]], c='white', marker='o', edgecolor='black', s=50)\n",
        "plt.title(\"Genomsnittslängd av svenska rekryter 1845-1967\")\n",
        "plt.grid()\n",
        "plt.xlabel('År')\n",
        "plt.ylabel('Längd cm')\n",
        "plt.tight_layout()\n",
        "plt.show()"
      ]
    },
    {
      "cell_type": "markdown",
      "id": "narrative-soundtrack",
      "metadata": {
        "id": "narrative-soundtrack"
      },
      "source": [
        "---\n",
        "#LINJÄR REGRESSION\n",
        "---\n",
        "En rät linje anpassas på bästa sätt till våra datapunkter. Alla förutsägelser/prediktioner finns på den röda linjen"
      ]
    },
    {
      "cell_type": "code",
      "execution_count": null,
      "id": "devoted-tumor",
      "metadata": {
        "id": "devoted-tumor"
      },
      "outputs": [],
      "source": [
        "# Skapa, träna och utvärdera regressionsmodellen\n",
        "from sklearn.pipeline import make_pipeline\n",
        "from sklearn.preprocessing import StandardScaler\n",
        "from sklearn.linear_model import SGDRegressor\n",
        "from sklearn.metrics import r2_score\n",
        "\n",
        "reg = make_pipeline(StandardScaler(), SGDRegressor(max_iter=300, tol=1e-3))\n",
        "reg.fit(rekryter[:,[0]], np.ravel(rekryter[:,[1]],order=\"c\"))\n",
        "y_pred = reg.predict(rekryter[:,[0]])\n",
        "# R^2: 1 är perfekt, 0.5 mera gissning\n",
        "print('R^2: %.2f' % r2_score(rekryter[:,[1]], y_pred))\n",
        "l1942 = reg.predict(np.array([1942.]).reshape(-1, 1))\n",
        "l1880 = reg.predict(np.array([1880.]).reshape(-1, 1))\n",
        "print('Uppskattad längd 1942: %.2f'% l1942[0])\n",
        "print('Uppskattad längd 1880: %.2f'% l1880[0])"
      ]
    },
    {
      "cell_type": "code",
      "source": [
        "# Plotta regressionslinjen och datapunkterna\n",
        "plt.scatter(rekryter[:,[0]], rekryter[:,[1]], c='white', marker='o', edgecolor='black', s=50)\n",
        "plt.title(\"Genomsnittslängd av svenska rekryter 1845-1967\")\n",
        "plt.grid()\n",
        "plt.ylim([166, 178])\n",
        "plt.xlabel('År')\n",
        "plt.ylabel('Längd cm')\n",
        "plt.plot(rekryter[:,[0]], y_pred, color='red')\n",
        "plt.scatter([1880., 1942.], [l1880, l1942] , c='blue', marker='s', edgecolor='blue', s=100)\n",
        "plt.draw()"
      ],
      "metadata": {
        "id": "qdlefflHRGwC"
      },
      "id": "qdlefflHRGwC",
      "execution_count": null,
      "outputs": []
    },
    {
      "cell_type": "markdown",
      "id": "special-percentage",
      "metadata": {
        "id": "special-percentage"
      },
      "source": [
        "---\n",
        "#BESLUTSTRÄD\n",
        "---\n",
        "Belutsträd kan användas för regression. Här ett enkelt beslutsträd med max_depth=3. Anpassningen blir en trappa där varje trappsteg motsvarar ett löv i trädet.\n",
        "Trädet kan inte extrapolera. Rekryterna blir t.ex. aldrig längre än 177.5 cm!"
      ]
    },
    {
      "cell_type": "code",
      "execution_count": null,
      "id": "becoming-paradise",
      "metadata": {
        "scrolled": true,
        "id": "becoming-paradise"
      },
      "outputs": [],
      "source": [
        "# Skapa, träna och utvärdera beslutsträdet\n",
        "from sklearn import tree\n",
        "from sklearn.metrics import r2_score\n",
        "\n",
        "regtree = tree.DecisionTreeRegressor(max_depth=3)\n",
        "regtree.fit(rekryter[:,[0]], np.ravel(rekryter[:,[1]],order=\"c\"))\n",
        "y_pred = regtree.predict(rekryter[:,[0]])\n",
        "# R^2: 1 är perfekt, 0.5 mera gissning\n",
        "print('R^2: %.2f' % r2_score(rekryter[:,[1]], y_pred))\n",
        "l1942 = regtree.predict(np.array([1942.]).reshape(-1, 1))\n",
        "l1880 = regtree.predict(np.array([1880.]).reshape(-1, 1))\n",
        "print('Uppskattad längd 1942: %.2f'% l1942[0])\n",
        "print('Uppskattad längd 1880: %.2f'% l1880[0])"
      ]
    },
    {
      "cell_type": "code",
      "source": [
        "# Plotta \"regressionslinjen\" och datapunkterna\n",
        "plt.scatter(rekryter[:,[0]], rekryter[:,[1]], c='white', marker='o', edgecolor='black', s=50)\n",
        "plt.title(\"Genomsnittslängd av svenska rekryter 1845-1967\")\n",
        "plt.grid()\n",
        "plt.ylim([166, 178])\n",
        "plt.xlabel('År')\n",
        "plt.ylabel('Längd cm')\n",
        "x_plot = np.array(range(1840, 1980))\n",
        "y_plot = regtree.predict(x_plot.reshape(-1, 1))\n",
        "plt.plot(x_plot, y_plot, color='red')\n",
        "plt.scatter([1880., 1942.], [l1880, l1942] , c='blue', marker='s', edgecolor='blue', s=100)\n",
        "plt.draw()"
      ],
      "metadata": {
        "id": "dM6JiI4fVLqz"
      },
      "id": "dM6JiI4fVLqz",
      "execution_count": null,
      "outputs": []
    },
    {
      "cell_type": "markdown",
      "id": "sorted-springer",
      "metadata": {
        "id": "sorted-springer"
      },
      "source": [
        "### Plottning av beslutsträdet och hur trädet kan tolkas\n",
        "Exempel: Hur långa var rekryterna år 1920? Börja överst i trädet (i roten). **1)**1920 är mindre än 1927.5 (true) => vänster. **2)** 1920 är större än 1897.5 (false) => höger. **3)** 1920 är större än 1907.5 (false) => höger. Värdet är 171.85. 4 \"samples\" i lövet. Stämmer med plottningen ovan."
      ]
    },
    {
      "cell_type": "code",
      "execution_count": null,
      "id": "forward-advocate",
      "metadata": {
        "scrolled": true,
        "id": "forward-advocate"
      },
      "outputs": [],
      "source": [
        "plt.figure(figsize=(12, 6))\n",
        "_ = tree.plot_tree(regtree, feature_names=[\"År\"], filled=False, fontsize=6)"
      ]
    }
  ],
  "metadata": {
    "kernelspec": {
      "display_name": "Python 3 (ipykernel)",
      "language": "python",
      "name": "python3"
    },
    "language_info": {
      "codemirror_mode": {
        "name": "ipython",
        "version": 3
      },
      "file_extension": ".py",
      "mimetype": "text/x-python",
      "name": "python",
      "nbconvert_exporter": "python",
      "pygments_lexer": "ipython3",
      "version": "3.7.13"
    },
    "colab": {
      "provenance": [],
      "include_colab_link": true
    }
  },
  "nbformat": 4,
  "nbformat_minor": 5
}