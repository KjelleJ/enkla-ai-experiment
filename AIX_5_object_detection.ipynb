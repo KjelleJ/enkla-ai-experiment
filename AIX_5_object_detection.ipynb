{
  "cells": [
    {
      "cell_type": "markdown",
      "metadata": {
        "id": "view-in-github",
        "colab_type": "text"
      },
      "source": [
        "<a href=\"https://colab.research.google.com/github/KjelleJ/enkla-ai-experiment/blob/main/AIX_5_object_detection.ipynb\" target=\"_parent\"><img src=\"https://colab.research.google.com/assets/colab-badge.svg\" alt=\"Open In Colab\"/></a>"
      ]
    },
    {
      "cell_type": "markdown",
      "source": [
        "#**OBJECT DETECTION**\n",
        "Lokalisera föremål i en bild\n",
        "---\n",
        "\n"
      ],
      "metadata": {
        "id": "AVhJjr5gsSLC"
      },
      "id": "AVhJjr5gsSLC"
    },
    {
      "cell_type": "code",
      "execution_count": null,
      "id": "absolute-eleven",
      "metadata": {
        "id": "absolute-eleven"
      },
      "outputs": [],
      "source": [
        "# Alla nödvändiga bibliotek\n",
        "import tensorflow as tf\n",
        "import tensorflow_hub as hub\n",
        "import matplotlib.pyplot as plt\n",
        "import numpy as np\n",
        "from matplotlib.patches import Rectangle\n",
        "from PIL import Image\n",
        "import requests\n",
        "import os"
      ]
    },
    {
      "cell_type": "code",
      "execution_count": null,
      "id": "changing-daniel",
      "metadata": {
        "id": "changing-daniel"
      },
      "outputs": [],
      "source": [
        "# Hämta våra bilder\n",
        "\n",
        "# hämta från url, lagra som lokal fil\n",
        "def get_img_to_file(url, path):\n",
        "  img_data = requests.get(url).content\n",
        "  with open(path, 'wb') as handler:\n",
        "      handler.write(img_data)\n",
        "\n",
        "get_img_to_file(\"https://www.download.gubboit.se/hooks.JPG\", \"hooks\")\n",
        "get_img_to_file(\"https://www.download.gubboit.se/jakan.JPG\", \"jakan\")"
      ]
    },
    {
      "cell_type": "code",
      "source": [
        "plt.imshow(plt.imread('hooks'))"
      ],
      "metadata": {
        "id": "JW6HfGK3hHbb"
      },
      "id": "JW6HfGK3hHbb",
      "execution_count": null,
      "outputs": []
    },
    {
      "cell_type": "code",
      "source": [
        "plt.imshow(plt.imread('jakan'))"
      ],
      "metadata": {
        "id": "fZozT-YRhHGP"
      },
      "id": "fZozT-YRhHGP",
      "execution_count": null,
      "outputs": []
    },
    {
      "cell_type": "markdown",
      "source": [
        "---\n",
        "#VÅR MODELL\n",
        "---"
      ],
      "metadata": {
        "id": "zbXVO1MKtUym"
      },
      "id": "zbXVO1MKtUym"
    },
    {
      "cell_type": "code",
      "execution_count": null,
      "id": "third-theorem",
      "metadata": {
        "id": "third-theorem"
      },
      "outputs": [],
      "source": [
        "# Läs in modellen\n",
        "# Om fel \"tf hub OSError: SavedModel file does not exist at\" ta bort foldern och kör om...\n",
        "\n",
        "# Ladda detektorn från TensorFlow Hub\n",
        "detector = hub.load(\"https://tfhub.dev/google/openimages_v4/ssd/mobilenet_v2/1\")"
      ]
    },
    {
      "cell_type": "code",
      "execution_count": null,
      "id": "primary-context",
      "metadata": {
        "id": "primary-context"
      },
      "outputs": [],
      "source": [
        "# Funktionen object_detect använder vår modell för att göra 'object detection'\n",
        "def object_detect(content_path, score_min):\n",
        "    # Load content image\n",
        "    content_image = plt.imread(content_path)\n",
        "    # Convert to float32 numpy array, add batch dimension, and normalize to range [0, 1]. Example using numpy:\n",
        "    # Det är samma krav på bilden som för style_transfer\n",
        "    content_image = content_image.astype(np.float32)[np.newaxis, ...] / 255.\n",
        "\n",
        "    # Detect\n",
        "    # Problem med anropet därför signatures['default']\n",
        "    output = detector.signatures['default'](tf.constant(content_image))\n",
        "\n",
        "   # output är ett dictionary {}\n",
        "    # vi är bara instresserade detection_scores, detection_class_entities och detection_boxes\n",
        "    scores = output['detection_scores']\n",
        "    classes = output['detection_class_entities']\n",
        "    boxes = output['detection_boxes']\n",
        "    # gör om från tensorer till numpy arrayer\n",
        "    scores = scores.numpy()\n",
        "    # gör oxå om från byte till string\n",
        "    classes = classes.numpy().astype(str)\n",
        "    boxes = boxes.numpy()\n",
        "\n",
        "    for i in range(len(scores)):\n",
        "        # skriv ut om score >= score_min\n",
        "        if (scores[i] >= score_min):\n",
        "            print(str(i), classes[i], scores[i])\n",
        "            num_obj = i\n",
        "\n",
        "    # plotta bilden med bounding boxes och objekt-nummer\n",
        "    edge = ['r', 'y', 'b', 'g']\n",
        "    image = Image.open(content_path)\n",
        "    # Set the size of the plot figure\n",
        "    plt.figure(figsize=(12, 12))\n",
        "    plt.imshow(image)\n",
        "    plt.axis('off')\n",
        "    # Get the current reference\n",
        "    ax = plt.gca()\n",
        "\n",
        "    #for i in range(num_obj + 1):\n",
        "    for i in range(len(scores)):\n",
        "      if (scores[i] >= score_min):\n",
        "        ymin = boxes[i][0]\n",
        "        xmin = boxes[i][1]\n",
        "        ymax = boxes[i][2]\n",
        "        xmax = boxes[i][3]\n",
        "        # Create a Rectangle patch\n",
        "        width = image.width*(xmax - xmin)\n",
        "        height = image.height*(ymax - ymin)\n",
        "        rect = Rectangle((image.width*xmin, image.height*ymin), width, height,\n",
        "                         linewidth=3, edgecolor=edge[i%4], facecolor='none')\n",
        "        plt.text(image.width*xmin, image.height*ymin, str(i), color='red',\n",
        "                 fontdict={\"fontsize\":20,\"fontweight\":'bold',\"ha\":\"left\", \"va\":\"baseline\"})\n",
        "        # Add the patch to the Axes\n",
        "        ax.add_patch(rect)\n",
        "    plt.show()\n"
      ]
    },
    {
      "cell_type": "markdown",
      "source": [
        "---\n",
        "#'OBJECT DETECTION' FÖR VÅRA BILDER\n",
        "---"
      ],
      "metadata": {
        "id": "GiwTCQQTlD4l"
      },
      "id": "GiwTCQQTlD4l"
    },
    {
      "cell_type": "code",
      "execution_count": null,
      "id": "asian-sphere",
      "metadata": {
        "scrolled": false,
        "id": "asian-sphere"
      },
      "outputs": [],
      "source": [
        "# Objekt med sannolikhet större än 0.2\n",
        "object_detect(\"jakan\", 0.2)"
      ]
    },
    {
      "cell_type": "code",
      "execution_count": null,
      "id": "ranking-vegetable",
      "metadata": {
        "scrolled": false,
        "id": "ranking-vegetable"
      },
      "outputs": [],
      "source": [
        "# Objekt med sannolikhet större än 0.1\n",
        "object_detect(\"jakan\", 0.15)"
      ]
    },
    {
      "cell_type": "code",
      "source": [
        "object_detect(\"hooks\", 0.2)"
      ],
      "metadata": {
        "id": "Ux7SWzi6kYAy"
      },
      "id": "Ux7SWzi6kYAy",
      "execution_count": null,
      "outputs": []
    },
    {
      "cell_type": "markdown",
      "source": [
        "---\n",
        "#PRÖVA MED EGEN BILD\n",
        "---\n",
        "OBS! Bara jpg-filer"
      ],
      "metadata": {
        "id": "uspj6zfPpslD"
      },
      "id": "uspj6zfPpslD"
    },
    {
      "cell_type": "code",
      "source": [
        "# Hitta en bild på nätet:\n",
        "# Högerklicka på bilden, välj \"kopiera bildadress\",\n",
        "# Dubbelklicka på URL i funkionsanropet, klistra in (ctrl-v)\n",
        "get_img_to_file(\"URL\", \"minfil\")"
      ],
      "metadata": {
        "id": "FD36J-8ipfuK"
      },
      "id": "FD36J-8ipfuK",
      "execution_count": null,
      "outputs": []
    },
    {
      "cell_type": "code",
      "source": [
        "object_detect(\"minfil\", 0.2)"
      ],
      "metadata": {
        "id": "7S8YhTYdpe8r"
      },
      "id": "7S8YhTYdpe8r",
      "execution_count": null,
      "outputs": []
    },
    {
      "cell_type": "code",
      "source": [
        "# En fil på din PC\n",
        "from google.colab import files\n",
        "\n",
        "myfile = files.upload()"
      ],
      "metadata": {
        "id": "JZbCQQYspep6"
      },
      "id": "JZbCQQYspep6",
      "execution_count": null,
      "outputs": []
    },
    {
      "cell_type": "code",
      "source": [
        "# Ersätt ?????? med filnamn från cellen innan\n",
        "object_detect(\"??????\", 0.2)"
      ],
      "metadata": {
        "id": "vTq75Q1GpeLO"
      },
      "id": "vTq75Q1GpeLO",
      "execution_count": null,
      "outputs": []
    },
    {
      "cell_type": "markdown",
      "source": [
        "---\n",
        "#Prova på den här appen\n",
        "\n",
        "Appen utför **Object Detection** på en video som visar rusningstrafik i NY filmat från en mc. Klicka på **Auto** så startar videon. Appen laddar först modellen från webbservern och det kan ibland ta lite tid.\n",
        "\n",
        "https://gubboit.se/objectapp/"
      ],
      "metadata": {
        "id": "wb9yzk12PXuS"
      },
      "id": "wb9yzk12PXuS"
    },
    {
      "cell_type": "code",
      "source": [],
      "metadata": {
        "id": "Ir_bhlLbPLpG"
      },
      "id": "Ir_bhlLbPLpG",
      "execution_count": null,
      "outputs": []
    }
  ],
  "metadata": {
    "kernelspec": {
      "display_name": "Python 3 (ipykernel)",
      "language": "python",
      "name": "python3"
    },
    "language_info": {
      "codemirror_mode": {
        "name": "ipython",
        "version": 3
      },
      "file_extension": ".py",
      "mimetype": "text/x-python",
      "name": "python",
      "nbconvert_exporter": "python",
      "pygments_lexer": "ipython3",
      "version": "3.7.13"
    },
    "colab": {
      "provenance": [],
      "include_colab_link": true
    }
  },
  "nbformat": 4,
  "nbformat_minor": 5
}