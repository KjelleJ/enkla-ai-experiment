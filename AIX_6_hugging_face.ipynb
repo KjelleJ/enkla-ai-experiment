{
  "cells": [
    {
      "cell_type": "markdown",
      "metadata": {
        "id": "view-in-github",
        "colab_type": "text"
      },
      "source": [
        "<a href=\"https://colab.research.google.com/github/KjelleJ/enkla-ai-experiment/blob/main/AIX_6_hugging_face.ipynb\" target=\"_parent\"><img src=\"https://colab.research.google.com/assets/colab-badge.svg\" alt=\"Open In Colab\"/></a>"
      ]
    },
    {
      "cell_type": "markdown",
      "metadata": {
        "id": "zyOqHj1LY_Hq"
      },
      "source": [
        "---\n",
        "# Hugging Face Serverless Inference API\n",
        "---\n",
        "På **Hugging Face** finns många modeller. Vi accessar modellerna via ändpunkter - ingen nedladdning av modellerna till Colab.\n",
        "Det verkar som om vissa modeller inte alltid är laddade till ändpunkten. Om du får ett felmeddelande eller konstiga fel vänta en stund (20 sek) och kör om cellen där API:et används."
      ]
    },
    {
      "cell_type": "code",
      "execution_count": null,
      "metadata": {
        "id": "RC-fpBxZ_iJp"
      },
      "outputs": [],
      "source": [
        "import matplotlib.pyplot as plt\n",
        "import requests\n",
        "from PIL import Image\n",
        "from matplotlib.patches import Rectangle\n",
        "import numpy as np"
      ]
    },
    {
      "cell_type": "code",
      "execution_count": null,
      "metadata": {
        "id": "JpkeLehP_SFu"
      },
      "outputs": [],
      "source": [
        "# hämta fil via länk och spara som lokal fil\n",
        "def get_img_to_file(url, path):\n",
        "  img_data = requests.get(url).content\n",
        "  with open(path, 'wb') as handler:\n",
        "      handler.write(img_data)"
      ]
    },
    {
      "cell_type": "code",
      "execution_count": null,
      "metadata": {
        "id": "SJcKnb3-bgrf"
      },
      "outputs": [],
      "source": [
        "# Access key till Hugging Face\n",
        "# Du måste skapa en egen nyckel:\n",
        "# 1) Gå till huggingface.co\n",
        "# 2) Skapa ett HF-konto (sign in)\n",
        "# 3) Logga in\n",
        "# 4) Klicka på användar-ikonen (överst till höger) och välj 'Access Tokens'\n",
        "# 5) Skapa en ny token (read) och kopiera textsträngen\n",
        "# 6) Klicka på nyckeln till vänster i Colab\n",
        "# 7) Klicka på 'Lägg till ny hemlighet'\n",
        "# 8) Skriv HF_KEY i vänster fält och kopiera in textsträngen i höger\n",
        "\n",
        "from google.colab import userdata\n",
        "HF_KEY = userdata.get('HF_KEY')"
      ]
    },
    {
      "cell_type": "markdown",
      "metadata": {
        "id": "xNer4tddPf00"
      },
      "source": [
        "---\n",
        "#TEXT-TO-IMAGE\n",
        "---\n",
        "https://huggingface.co/black-forest-labs/FLUX.1-dev"
      ]
    },
    {
      "cell_type": "code",
      "execution_count": null,
      "metadata": {
        "id": "7s4JRSO1xV6I"
      },
      "outputs": [],
      "source": [
        "# API-anrop.\n",
        "# Skapa en bild utgående från en text. Ändra \"A painting from 1520\" om annat motiv önskas.\n",
        "# Eller kör ett par gånger - blir olika bilder med samma text. Kan ta ett par minuter\n",
        "API_URL = \"https://api-inference.huggingface.co/models/black-forest-labs/FLUX.1-dev\"\n",
        "headers = {\"Authorization\": \"Bearer \" + HF_KEY}\n",
        "def query(payload):\n",
        "\tresponse = requests.post(API_URL, headers=headers, json=payload)\n",
        "\treturn response.content\n",
        "image_bytes = query({\n",
        "\t\"inputs\": \"A painting from 1520\",\n",
        "})\n",
        "# You can access the image with PIL.Image for example\n",
        "import io\n",
        "from PIL import Image\n",
        "image = Image.open(io.BytesIO(image_bytes))"
      ]
    },
    {
      "cell_type": "code",
      "execution_count": null,
      "metadata": {
        "id": "b1QKCpp6x8a5"
      },
      "outputs": [],
      "source": [
        "# Visa den skapade bilden.\n",
        "plt.imshow(image)\n",
        "plt.show()"
      ]
    },
    {
      "cell_type": "markdown",
      "metadata": {
        "id": "Tv4n4QaGP_w0"
      },
      "source": [
        "---\n",
        "#IMAGE-TO-TEXT\n",
        "---\n",
        "https://huggingface.co/meta-llama/Llama-3.2-11B-Vision-Instruct"
      ]
    },
    {
      "cell_type": "code",
      "execution_count": null,
      "metadata": {
        "id": "X_bKlM1YmBIJ"
      },
      "outputs": [],
      "source": [
        "# Bild att beskriva. Byt gärna ut följande länk med något från nätet.\n",
        "# Högerklicka på en bild, välj 'kopiera bildadress' och ersätt länken.\n",
        "image_url = \"https://www.download.gubboit.se/hooks.JPG\"\n",
        "get_img_to_file(image_url, \"image\")\n",
        "plt.imshow(plt.imread('image'))"
      ]
    },
    {
      "cell_type": "code",
      "execution_count": null,
      "metadata": {
        "id": "ynCgwmki88dz"
      },
      "outputs": [],
      "source": [
        "# API-anrop.\n",
        "# Beskriv med text innehållet i en bild\n",
        "API_URL = \"https://api-inference.huggingface.co/models/meta-llama/Llama-3.2-11B-Vision-Instruct\"\n",
        "from huggingface_hub import InferenceClient\n",
        "client = InferenceClient(api_key=HF_KEY)\n",
        "for message in client.chat_completion(\n",
        "\tmodel=\"meta-llama/Llama-3.2-11B-Vision-Instruct\",\n",
        "\tmessages=[\n",
        "\t\t{\n",
        "\t\t\t\"role\": \"user\",\n",
        "\t\t\t\"content\": [\n",
        "\t\t\t\t{\"type\": \"image_url\", \"image_url\": {\"url\": image_url}},\n",
        "\t\t\t\t{\"type\": \"text\", \"text\": \"Describe this image in one sentence.\"},\n",
        "\t\t\t],\n",
        "\t\t}\n",
        "\t],\n",
        "\tmax_tokens=500,\n",
        "\tstream=True,\n",
        "):\n",
        "\tprint(message.choices[0].delta.content, end=\"\")"
      ]
    },
    {
      "cell_type": "markdown",
      "source": [],
      "metadata": {
        "id": "iFhp_r7oZBTD"
      }
    },
    {
      "cell_type": "markdown",
      "metadata": {
        "id": "U3LzhahNQOP3"
      },
      "source": [
        "---\n",
        "#OBJECT DETECTION\n",
        "---\n",
        "https://huggingface.co/facebook/detr-resnet-50\n",
        "\n",
        "Verkar inte känna igen träd eller hus mm men är bra på bilar."
      ]
    },
    {
      "cell_type": "code",
      "execution_count": null,
      "metadata": {
        "id": "vX81zubqdDzv"
      },
      "outputs": [],
      "source": [
        "# Funktion för att plotta bounding boxes till objekten\n",
        "def plot_objects(content_path, output, score_min):\n",
        "    # output är ett dictionary {}\n",
        "    scores = [item['score'] for item in output]\n",
        "    classes = [item['label'] for item in output]\n",
        "    boxes = [item['box'] for item in output]\n",
        "\n",
        "    for i in range(len(scores)):\n",
        "        # skriv ut om score >= score_min\n",
        "        if (scores[i] >= score_min):\n",
        "            print(str(i), classes[i], scores[i])\n",
        "\n",
        "    # plotta bilden med bounding boxes och objekt-nummer\n",
        "    edge = ['r', 'y', 'b', 'g']\n",
        "    image = Image.open(content_path)\n",
        "    # Set the size of the plot figure\n",
        "    plt.figure(figsize=(12, 12))\n",
        "    plt.imshow(image)\n",
        "    plt.axis('off')\n",
        "    # Get the current reference\n",
        "    ax = plt.gca()\n",
        "\n",
        "    for i in range(len(scores)):\n",
        "        if (scores[i] >= score_min):\n",
        "          tmp = boxes[i]\n",
        "          ymin = tmp['ymin']\n",
        "          ymax = tmp['ymax']\n",
        "          xmin = tmp['xmin']\n",
        "          xmax = tmp['xmax']\n",
        "\n",
        "          # Create a Rectangle patch\n",
        "          #width = image.width*(xmax - xmin)\n",
        "          #height = image.height*(ymax - ymin)\n",
        "          width = (xmax - xmin)\n",
        "          height = (ymax - ymin)\n",
        "          rect = Rectangle((xmin, ymin), width, height,\n",
        "                linewidth=2, edgecolor=edge[i%4], facecolor='none')\n",
        "          plt.text(xmin, ymin, str(i), color=edge[i%4],\n",
        "                  fontdict={\"fontsize\":10,\"fontweight\":'bold',\"ha\":\"left\", \"va\":\"baseline\"})\n",
        "          # Add the patch to the Axes\n",
        "          ax.add_patch(rect)\n",
        "    plt.show()"
      ]
    },
    {
      "cell_type": "code",
      "execution_count": null,
      "metadata": {
        "id": "PeCBWS0OaYT8"
      },
      "outputs": [],
      "source": [
        "# Bilder för object detection.\n",
        "# Byt gärna ut följande länk med något från nätet.\n",
        "# Högerklicka på en bild, välj 'kopiera bildadress' och ersätt länken.\n",
        "image_url = \"https://live.staticflickr.com/65535/53055525000_d57ca47b9c_b.jpg\"\n",
        "get_img_to_file(image_url, \"image1\")\n",
        "image_url = \"https://www.download.gubboit.se/hooks.JPG\"\n",
        "get_img_to_file(image_url, \"image2\")\n",
        "plt.imshow(plt.imread('image1'))"
      ]
    },
    {
      "cell_type": "code",
      "execution_count": null,
      "metadata": {
        "id": "Dbw5lqCIM8cv"
      },
      "outputs": [],
      "source": [
        "plt.imshow(plt.imread('image2'))"
      ]
    },
    {
      "cell_type": "code",
      "execution_count": null,
      "metadata": {
        "id": "XMcJG66lZxsG"
      },
      "outputs": [],
      "source": [
        "# API-anrop. Object Detection.\n",
        "API_URL = \"https://api-inference.huggingface.co/models/facebook/detr-resnet-50\"\n",
        "headers = {\"Authorization\": \"Bearer \" + HF_KEY}\n",
        "\n",
        "def query(filename):\n",
        "    with open(filename, \"rb\") as f:\n",
        "        data = f.read()\n",
        "    response = requests.post(API_URL, headers=headers, data=data)\n",
        "    return response.json()\n",
        "\n",
        "output1 = query(\"image1\")\n",
        "output2 = query(\"image2\")"
      ]
    },
    {
      "cell_type": "code",
      "execution_count": null,
      "metadata": {
        "id": "x9LjZnAqfjFy"
      },
      "outputs": [],
      "source": [
        "# Plotta resultatet\n",
        "plot_objects(\"image1\", output1, 0.5)"
      ]
    },
    {
      "cell_type": "code",
      "execution_count": null,
      "metadata": {
        "id": "rttcrh46HyBQ"
      },
      "outputs": [],
      "source": [
        "plot_objects(\"image2\", output2, 0.1)"
      ]
    },
    {
      "cell_type": "markdown",
      "metadata": {
        "id": "VNPpgXSSHzGL"
      },
      "source": [
        "---\n",
        "#Bildsegmentering\n",
        "---\n",
        "För **object detection** markeras varje objekt med en rektangel. För **bildsegmentering** markeras objektet på pixel-nivå. Vi ser på så vis objektets form.\n",
        "\n",
        "https://huggingface.co/nvidia/segformer-b0-finetuned-ade-512-512"
      ]
    },
    {
      "cell_type": "code",
      "execution_count": null,
      "metadata": {
        "id": "66LxjP3TR6VJ"
      },
      "outputs": [],
      "source": [
        "# Bild för segmenering.\n",
        "# Byt gärna ut följande länk med något från nätet.\n",
        "# Högerklicka på en bild, välj 'kopiera bildadress' och ersätt länken.\n",
        "get_img_to_file(\"https://www.download.gubboit.se/jakan.JPG\", \"image\")"
      ]
    },
    {
      "cell_type": "code",
      "execution_count": null,
      "metadata": {
        "id": "AHS0mQ3iZ0sb"
      },
      "outputs": [],
      "source": [
        "#API-anrop: Bildsegmentering\n",
        "API_URL = \"https://api-inference.huggingface.co/models/nvidia/segformer-b0-finetuned-ade-512-512\"\n",
        "headers = {\"Authorization\": \"Bearer \" + HF_KEY}\n",
        "\n",
        "def query(filename):\n",
        "    with open(filename, \"rb\") as f:\n",
        "        data = f.read()\n",
        "    response = requests.post(API_URL, headers=headers, data=data)\n",
        "    return response.json()\n",
        "\n",
        "output = query(\"image\")"
      ]
    },
    {
      "cell_type": "code",
      "execution_count": null,
      "metadata": {
        "id": "J5U01_Kb2HuI"
      },
      "outputs": [],
      "source": [
        "# 'mask' är ett bildsegment\n",
        "output[0]"
      ]
    },
    {
      "cell_type": "code",
      "execution_count": null,
      "metadata": {
        "collapsed": true,
        "id": "kvtcTxOs8atL"
      },
      "outputs": [],
      "source": [
        "# lista med hittade objekt: nr, label\n",
        "for i in range(len(output)):\n",
        "  tmp = output[i]\n",
        "  print(i, tmp['label'])"
      ]
    },
    {
      "cell_type": "code",
      "execution_count": null,
      "metadata": {
        "id": "NDCSFx_VwOL-"
      },
      "outputs": [],
      "source": [
        "# Visa bild för segementering\n",
        "plt.imshow(plt.imread('image'))\n"
      ]
    },
    {
      "cell_type": "code",
      "execution_count": null,
      "metadata": {
        "id": "zuSj7S4l87tD"
      },
      "outputs": [],
      "source": [
        "# Visa mask för ett objekt\n",
        "import base64\n",
        "import io\n",
        "# Du kan ändra objekt-nummer enligt listan ovan\n",
        "tmp = output[7]\n",
        "imgdata = base64.b64decode(tmp['mask'])\n",
        "# Use BytesIO to treat the byte string as an in-memory file\n",
        "image = Image.open(io.BytesIO(imgdata))\n",
        "# Convert the PIL Image to a NumPy array\n",
        "image_np = np.array(image)\n",
        "plt.imshow(image_np, cmap='gray')\n",
        "plt.show()"
      ]
    },
    {
      "cell_type": "code",
      "execution_count": null,
      "metadata": {
        "id": "4hE2cgB5DnVr"
      },
      "outputs": [],
      "source": [
        "# Hämta bild och visa storlek\n",
        "image = plt.imread('image')\n",
        "image.shape"
      ]
    },
    {
      "cell_type": "code",
      "execution_count": null,
      "metadata": {
        "id": "_4TKATNi7B5h"
      },
      "outputs": [],
      "source": [
        "# Visa storlek av mask-bild\n",
        "mask = image_np\n",
        "mask.shape"
      ]
    },
    {
      "cell_type": "code",
      "execution_count": null,
      "metadata": {
        "id": "wEq8gMOq8mpW"
      },
      "outputs": [],
      "source": [
        "# Applicera masken på vår bild.\n",
        "# I masken har pixlarna värdet 255 annars 0\n",
        "# pixlar som finns utanför masken blir vita\n",
        "# puxlar som finns inom maske ändras inte\n",
        "masked_image = image.copy()\n",
        "for i in range(mask.shape[0]):\n",
        "  for j in range(mask.shape[1]):\n",
        "    if mask[i,j] == 0:\n",
        "      masked_image[i,j,0] = 255\n",
        "      masked_image[i,j,1] = 255\n",
        "      masked_image[i,j,2] = 255\n",
        "plt.imshow(masked_image)"
      ]
    },
    {
      "cell_type": "markdown",
      "metadata": {
        "id": "0aGPZNyg8N4Q"
      },
      "source": [
        "---\n",
        "#ASR - Automatic Speech Recognition d.v.s. tal till text.\n",
        "---\n",
        "https://huggingface.co/openai/whisper-large-v3"
      ]
    },
    {
      "cell_type": "code",
      "execution_count": null,
      "metadata": {
        "id": "n255yz0zY5IP"
      },
      "outputs": [],
      "source": [
        "# Hämta ljudfil\n",
        "get_img_to_file(\"https://www.download.gubboit.se/harvard.wav\", \"harvard.wav\")\n",
        "get_img_to_file(\"https://www.download.gubboit.se/jackhammer.wav\", \"jackhammer.wav\")\n",
        "get_img_to_file(\"https://www.download.gubboit.se/Media1.wav\", \"Media1.wav\")\n"
      ]
    },
    {
      "cell_type": "code",
      "execution_count": null,
      "metadata": {
        "id": "Tmo_QHhiYzVk"
      },
      "outputs": [],
      "source": [
        "#API-anrop: ASR\n",
        "API_URL = \"https://api-inference.huggingface.co/models/openai/whisper-large-v3\"\n",
        "headers = {\"Authorization\": \"Bearer \" + HF_KEY}\n",
        "\n",
        "def query(filename):\n",
        "    with open(filename, \"rb\") as f:\n",
        "        data = f.read()\n",
        "    response = requests.post(API_URL, headers=headers, data=data)\n",
        "    return response.json()\n",
        "\n",
        "print(query(\"harvard.wav\"))\n",
        "print(query(\"jackhammer.wav\"))\n",
        "print(query(\"Media1.wav\"))"
      ]
    },
    {
      "cell_type": "code",
      "execution_count": null,
      "metadata": {
        "id": "laT1zGm44ClX"
      },
      "outputs": [],
      "source": [
        "# Lyssna på ljudfiler\n",
        "from IPython.display import Audio, display\n",
        "display(Audio(\"harvard.wav\", autoplay=True))\n"
      ]
    },
    {
      "cell_type": "code",
      "execution_count": null,
      "metadata": {
        "id": "OBuS5ZPfHFYH"
      },
      "outputs": [],
      "source": [
        "display(Audio(\"jackhammer.wav\", autoplay=True))"
      ]
    },
    {
      "cell_type": "code",
      "source": [
        "display(Audio(\"Media1.wav\", autoplay=True))"
      ],
      "metadata": {
        "id": "DmgePAAxdLXi"
      },
      "execution_count": null,
      "outputs": []
    }
  ],
  "metadata": {
    "colab": {
      "provenance": [],
      "authorship_tag": "ABX9TyPOLlAWKQCj6/YTmfiryi7g",
      "include_colab_link": true
    },
    "kernelspec": {
      "display_name": "Python 3",
      "name": "python3"
    },
    "language_info": {
      "name": "python"
    }
  },
  "nbformat": 4,
  "nbformat_minor": 0
}