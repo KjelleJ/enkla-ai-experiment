{
  "cells": [
    {
      "cell_type": "markdown",
      "metadata": {
        "id": "view-in-github",
        "colab_type": "text"
      },
      "source": [
        "<a href=\"https://colab.research.google.com/github/KjelleJ/enkla-ai-experiment/blob/main/AIX_7_face_recognition.ipynb\" target=\"_parent\"><img src=\"https://colab.research.google.com/assets/colab-badge.svg\" alt=\"Open In Colab\"/></a>"
      ]
    },
    {
      "cell_type": "markdown",
      "metadata": {
        "id": "mczs2M7DOe1Y"
      },
      "source": [
        "---\n",
        "#ANSIKTSIGENKÄNNING / FACE RECOGNITION\n",
        "---\n",
        "Görs i tre steg:\n",
        "1.   Lokalisera och 'klipp ut' alla ansikten i bilden\n",
        "2.   Skapa en vektor (embedding) för varje ansikte\n",
        "3.   Jämför vektorer för att identifiera personer\n",
        "\n",
        "OBS: GPU måste användas. Annars kan inte face_recognition importeras.\n",
        "\n",
        "https://github.com/ageitgey/face_recognition?tab=readme-ov-file"
      ]
    },
    {
      "cell_type": "code",
      "execution_count": null,
      "metadata": {
        "id": "nirNJeF-ZYLS"
      },
      "outputs": [],
      "source": [
        "!pip install face_recognition"
      ]
    },
    {
      "cell_type": "code",
      "execution_count": null,
      "metadata": {
        "id": "2-NQRZ59ku2W"
      },
      "outputs": [],
      "source": [
        "#import cv2\n",
        "import numpy as np\n",
        "#import os\n",
        "import face_recognition\n",
        "import requests\n",
        "import matplotlib.pyplot as plt\n",
        "from matplotlib.patches import Rectangle"
      ]
    },
    {
      "cell_type": "code",
      "execution_count": null,
      "metadata": {
        "id": "d_hHNQdcwVx7"
      },
      "outputs": [],
      "source": [
        "# Funktion: Hämta bild från url, lagra som lokal fil\n",
        "def get_img_to_file(url, path):\n",
        "  img_data = requests.get(url).content\n",
        "  with open(path, 'wb') as handler:\n",
        "      handler.write(img_data)"
      ]
    },
    {
      "cell_type": "code",
      "execution_count": null,
      "metadata": {
        "id": "BhSRGG1ucd26"
      },
      "outputs": [],
      "source": [
        "# Funktion: Visa upptäckta ansikten\n",
        "def show_faces(face_locations, image):\n",
        "  for face_location in face_locations:\n",
        "      # Print the location of each face in this image\n",
        "      top, right, bottom, left = face_location\n",
        "      print(\"A face is located at pixel location Top: {}, Left: {}, Bottom: {}, Right: {}\".format(top, left, bottom, right))\n",
        "      # You can access the actual face itself like this:\n",
        "      face_image = image[top:bottom, left:right]\n",
        "      plt.imshow(face_image)\n",
        "      plt.show()"
      ]
    },
    {
      "cell_type": "markdown",
      "metadata": {
        "id": "QkzOAmG3MU3X"
      },
      "source": [
        "---\n",
        "# ENKELT FALL: 2 BILDER - ÄR DET SAMMA PERSON?\n",
        "---"
      ]
    },
    {
      "cell_type": "code",
      "source": [
        "get_img_to_file(\"https://www.download.gubboit.se/musk.JPG\", \"musk.JPG\")\n",
        "get_img_to_file(\"https://www.download.gubboit.se/musk2.JPG\", \"musk2.JPG\")"
      ],
      "metadata": {
        "id": "g7lyomrWHH3X"
      },
      "execution_count": null,
      "outputs": []
    },
    {
      "cell_type": "code",
      "execution_count": null,
      "metadata": {
        "id": "tMLjbpTvYRjM"
      },
      "outputs": [],
      "source": [
        "image = face_recognition.load_image_file(\"musk.JPG\")\n",
        "plt.imshow(image)\n",
        "plt.show()\n",
        "faces = face_recognition.face_locations(image)\n",
        "show_faces(faces, image)"
      ]
    },
    {
      "cell_type": "code",
      "execution_count": null,
      "metadata": {
        "id": "Y_MqDudwLL44"
      },
      "outputs": [],
      "source": [
        "image = face_recognition.load_image_file(\"musk2.JPG\")\n",
        "plt.imshow(image)\n",
        "plt.show()\n",
        "faces = face_recognition.face_locations(image)\n",
        "show_faces(faces, image)"
      ]
    },
    {
      "cell_type": "code",
      "execution_count": null,
      "metadata": {
        "id": "K-X83NDaQYct"
      },
      "outputs": [],
      "source": [
        "# Funktion: Visa bild med en 'bounding box' per ansikte\n",
        "def highlight_faces(image_path, faces):\n",
        "  plt.figure(figsize=(10, 8))\n",
        "  # display image\n",
        "  image = plt.imread(image_path)\n",
        "  plt.imshow(image)\n",
        "\n",
        "  ax = plt.gca()\n",
        "\n",
        "  # for each face, draw a rectangle based on coordinates\n",
        "  i = 0\n",
        "  for face in faces:\n",
        "    top, right, bottom, left = face\n",
        "    face_border = Rectangle((left, top), right - left, bottom - top,\n",
        "                          fill=False, color='red')\n",
        "    plt.text(left, top, str(i), color=\"red\",\n",
        "             fontdict={\"fontsize\":20,\"fontweight\":'bold',\"ha\":\"left\", \"va\":\"baseline\"})\n",
        "    ax.add_patch(face_border)\n",
        "    i = i + 1\n",
        "  plt.axis('off')\n",
        "  plt.show()"
      ]
    },
    {
      "cell_type": "code",
      "execution_count": null,
      "metadata": {
        "id": "oB_y_s54kunJ"
      },
      "outputs": [],
      "source": [
        "image = face_recognition.load_image_file(\"musk.JPG\")\n",
        "faces = face_recognition.face_locations(image)\n",
        "face_encodings = face_recognition.face_encodings(image, faces)\n",
        "highlight_faces(\"musk.JPG\", faces)"
      ]
    },
    {
      "cell_type": "code",
      "execution_count": null,
      "metadata": {
        "id": "WzKrhfUtkUeJ"
      },
      "outputs": [],
      "source": [
        "# Varje ansikte kodas som en vektor med 128 element\n",
        "print(len(face_encodings[0]))\n",
        "face_encodings[0]"
      ]
    },
    {
      "cell_type": "code",
      "execution_count": null,
      "metadata": {
        "id": "3AsLV6yyh5Xt"
      },
      "outputs": [],
      "source": [
        "image2 = face_recognition.load_image_file(\"musk2.JPG\")\n",
        "faces2 = face_recognition.face_locations(image2)\n",
        "face_encodings2 = face_recognition.face_encodings(image2, faces2)\n",
        "highlight_faces(\"musk2.JPG\", faces2)"
      ]
    },
    {
      "cell_type": "code",
      "execution_count": null,
      "metadata": {
        "id": "mqh_WLNih5KX"
      },
      "outputs": [],
      "source": [
        "# compare_faces: Kolla om samma person på bilderna\n",
        "# Ett lägre värde på tolerance ger striktare krav på likhet\n",
        "face_recognition.compare_faces(face_encodings[0], face_encodings2, tolerance=0.6)"
      ]
    },
    {
      "cell_type": "markdown",
      "source": [
        "---\n",
        "#ANSIKTSDETALJER\n",
        "---\n",
        "Haka, vänster och höger ögonbryn, näsrygg, nästipp, vänster och höger öga, överläpp, underläpp"
      ],
      "metadata": {
        "id": "cAkHIM-DFXDS"
      }
    },
    {
      "cell_type": "code",
      "source": [
        "get_img_to_file(\"https://gfx-bloggar.aftonbladet-cdn.se/wp-content/blogs.dir/518/files/2015/12/brigitte-1024x800.jpg\", \"star.jpg\")"
      ],
      "metadata": {
        "id": "iuXMpVfD1e_F"
      },
      "execution_count": null,
      "outputs": []
    },
    {
      "cell_type": "code",
      "source": [
        "# Funktion: Visa ansiktsdetaljer\n",
        "def show_face_landmarks(path):\n",
        "  # Load the jpg file into a numpy array\n",
        "  image = face_recognition.load_image_file(path)\n",
        "\n",
        "  # Find all facial features in all the faces in the image\n",
        "  face_landmarks_list = face_recognition.face_landmarks(image)\n",
        "\n",
        "  #image = plt.imread(path)\n",
        "  plt.figure(figsize=(10, 8))\n",
        "  plt.imshow(image)\n",
        "\n",
        "  for face_landmarks in face_landmarks_list:\n",
        "      # Let's trace out each facial feature in the image with a line!\n",
        "      for facial_feature in face_landmarks.keys():\n",
        "        pts = np.vstack(face_landmarks[facial_feature])\n",
        "        plt.plot(pts[:,0], pts[:,1], color='red', linewidth=2)\n",
        "  # Show the picture\n",
        "  plt.axis('off')\n",
        "  plt.show()"
      ],
      "metadata": {
        "collapsed": true,
        "id": "4UG2sxpiFYCZ"
      },
      "execution_count": null,
      "outputs": []
    },
    {
      "cell_type": "code",
      "source": [
        "show_face_landmarks(\"musk.JPG\")"
      ],
      "metadata": {
        "id": "tuxCN3jRjNgu"
      },
      "execution_count": null,
      "outputs": []
    },
    {
      "cell_type": "code",
      "source": [
        "show_face_landmarks(\"musk2.JPG\")"
      ],
      "metadata": {
        "id": "b7x9EBlQBk_O"
      },
      "execution_count": null,
      "outputs": []
    },
    {
      "cell_type": "code",
      "source": [
        "show_face_landmarks(\"star.jpg\")"
      ],
      "metadata": {
        "id": "NK-i6Bqf14OQ"
      },
      "execution_count": null,
      "outputs": []
    },
    {
      "cell_type": "markdown",
      "source": [
        "---\n",
        "### Make up"
      ],
      "metadata": {
        "id": "NAZwPEC6Yukk"
      }
    },
    {
      "cell_type": "code",
      "source": [
        "\n",
        "from PIL import Image, ImageDraw\n",
        "# Funktion: Make up\n",
        "def make_up_landmarks(path):\n",
        "  # Load the jpg file into a numpy array\n",
        "  image = face_recognition.load_image_file(path)\n",
        "\n",
        "  # Find all facial features in all the faces in the image\n",
        "  face_landmarks_list = face_recognition.face_landmarks(image)\n",
        "\n",
        "  pil_image = Image.fromarray(image)\n",
        "  for face_landmarks in face_landmarks_list:\n",
        "      d = ImageDraw.Draw(pil_image, 'RGBA')\n",
        "\n",
        "      # Make the eyebrows into a nightmare\n",
        "      d.polygon(face_landmarks['left_eyebrow'], fill=(68, 54, 39, 128))\n",
        "      d.polygon(face_landmarks['right_eyebrow'], fill=(68, 54, 39, 128))\n",
        "      d.line(face_landmarks['left_eyebrow'], fill=(68, 54, 39, 150), width=5)\n",
        "      d.line(face_landmarks['right_eyebrow'], fill=(68, 54, 39, 150), width=5)\n",
        "\n",
        "      # Gloss the lips\n",
        "      d.polygon(face_landmarks['top_lip'], fill=(150, 0, 0, 128))\n",
        "      d.polygon(face_landmarks['bottom_lip'], fill=(150, 0, 0, 128))\n",
        "      d.line(face_landmarks['top_lip'], fill=(150, 0, 0, 64), width=8)\n",
        "      d.line(face_landmarks['bottom_lip'], fill=(150, 0, 0, 64), width=8)\n",
        "\n",
        "      # Sparkle the eyes\n",
        "      d.polygon(face_landmarks['left_eye'], fill=(255, 255, 255, 30))\n",
        "      d.polygon(face_landmarks['right_eye'], fill=(255, 255, 255, 30))\n",
        "\n",
        "      # Apply some eyeliner\n",
        "      d.line(face_landmarks['left_eye'] + [face_landmarks['left_eye'][0]], fill=(0, 0, 0, 110), width=6)\n",
        "      d.line(face_landmarks['right_eye'] + [face_landmarks['right_eye'][0]], fill=(0, 0, 0, 110), width=6)\n",
        "\n",
        "      plt.imshow(pil_image)\n",
        "      plt.axis('off')\n",
        "      plt.show()\n"
      ],
      "metadata": {
        "id": "0LfZ4UIAvnnq"
      },
      "execution_count": null,
      "outputs": []
    },
    {
      "cell_type": "code",
      "source": [
        "make_up_landmarks(\"musk.JPG\")"
      ],
      "metadata": {
        "id": "ko_sA7Q30inq"
      },
      "execution_count": null,
      "outputs": []
    },
    {
      "cell_type": "code",
      "source": [
        "make_up_landmarks(\"musk2.JPG\")"
      ],
      "metadata": {
        "id": "ubrvryblZKPA"
      },
      "execution_count": null,
      "outputs": []
    },
    {
      "cell_type": "code",
      "source": [
        "make_up_landmarks(\"star.jpg\")"
      ],
      "metadata": {
        "id": "SYk_lTeV2J0y"
      },
      "execution_count": null,
      "outputs": []
    },
    {
      "cell_type": "markdown",
      "metadata": {
        "id": "_7dpGSScpEA9"
      },
      "source": [
        "---\n",
        "#CHELSEA - 2 LAGBILDER\n",
        "---\n",
        "\n",
        "Vilka spelare från den första bilden finns med på den andra bilden?"
      ]
    },
    {
      "cell_type": "code",
      "execution_count": null,
      "metadata": {
        "id": "EFVfUWMkh42L"
      },
      "outputs": [],
      "source": [
        "# Spara lagbilderna på fil\n",
        "get_img_to_file(\"https://www.download.gubboit.se/chelsea1.jpg\", \"chelsea1.jpg\")\n",
        "get_img_to_file(\"https://www.download.gubboit.se/chelsea2.jpg\", \"chelsea2.jpg\")"
      ]
    },
    {
      "cell_type": "code",
      "execution_count": null,
      "metadata": {
        "id": "cwSua_TDh31Z"
      },
      "outputs": [],
      "source": [
        "# Den första lagbilden\n",
        "# En större modell behövs - annars missas ett ansikte\n",
        "image1 = face_recognition.load_image_file(\"chelsea1.jpg\")\n",
        "faces1 = face_recognition.face_locations(image1, model=\"cnn\")\n",
        "face_encodings1 = face_recognition.face_encodings(image1, faces1)\n",
        "highlight_faces(\"chelsea1.jpg\", faces1)"
      ]
    },
    {
      "cell_type": "code",
      "execution_count": null,
      "metadata": {
        "id": "3FtRYviZpwSU"
      },
      "outputs": [],
      "source": [
        "# Den andra lagbilden\n",
        "image2 = face_recognition.load_image_file(\"chelsea2.jpg\")\n",
        "faces2 = face_recognition.face_locations(image2, model=\"cnn\")\n",
        "face_encodings2 = face_recognition.face_encodings(image2, faces2)\n",
        "highlight_faces(\"chelsea2.jpg\", faces2)"
      ]
    },
    {
      "cell_type": "code",
      "execution_count": null,
      "metadata": {
        "id": "HsgANQ1LIr3x"
      },
      "outputs": [],
      "source": [
        "# Jämför ansikten på de två lagbilderna => 8 personer finns på båda bilderna\n",
        "spelare = []\n",
        "print(\"Spelare på första bilden som finns med på andra bilden:\")\n",
        "for i in range(len(face_encodings1)):\n",
        "  # en spelare i bild1 jämförs med spelarna i bild2\n",
        "  for j in range(len(face_encodings2)):\n",
        "    result = face_recognition.compare_faces([face_encodings1[i]], face_encodings2[j], tolerance=0.6)\n",
        "    if (result[0]):\n",
        "        spelare.append(str(i) + \" -> \" + str(j))\n",
        "        break   # vi har hittat en spelare i bild1 som finns i bild2\n",
        "print(spelare)"
      ]
    },
    {
      "cell_type": "markdown",
      "metadata": {
        "id": "y1qbis4s1oOz"
      },
      "source": [
        "---\n",
        "#JÄMFÖR BILDER PÅ KÄNDISAR\n",
        "---\n",
        "##### Vilka bilder föreställer samma person?\n",
        "##### Kändisar: Ben Affleck, Elton John, Jerry Seinfeld, Madonna, Mindy Kaling"
      ]
    },
    {
      "cell_type": "code",
      "execution_count": null,
      "metadata": {
        "id": "f2-JwCRE1n16"
      },
      "outputs": [],
      "source": [
        "# Hämta bilderna. 25 bilder - 5 för varje kändis\n",
        "!rm -f 5celeb.zip*\n",
        "!wget download.gubboit.se/5celeb.zip"
      ]
    },
    {
      "cell_type": "code",
      "execution_count": null,
      "metadata": {
        "id": "jKXtDoVr1ni0"
      },
      "outputs": [],
      "source": [
        "!unzip -oq 5celeb.zip"
      ]
    },
    {
      "cell_type": "code",
      "execution_count": null,
      "metadata": {
        "id": "4upCHivs1nL7"
      },
      "outputs": [],
      "source": [
        "# 25 kändisbilder 1.jpg - 25.jpg.\n",
        "# 1-5 Ben, 6-10 Elton, 11-15 Jerry, 16-20 Madonna, 21-25 Mindy\n",
        "!ls 5celeb"
      ]
    },
    {
      "cell_type": "code",
      "execution_count": null,
      "metadata": {
        "id": "X-2klEUx2q77"
      },
      "outputs": [],
      "source": [
        "# Skapa vektorer för bilderna och koordinater för ansiktena\n",
        "model_scores = []\n",
        "celeb_faces = []\n",
        "for i in range(1, 26):\n",
        "  image = face_recognition.load_image_file('5celeb/' + str(i) + '.jpg')\n",
        "  face = face_recognition.face_locations(image, model=\"cnn\")\n",
        "  top, right, bottom, left = face[0]\n",
        "  face_image = image[top:bottom, left:right]\n",
        "  celeb_faces.append(face_image)\n",
        "  face_encoding = face_recognition.face_encodings(image, face)\n",
        "  model_scores.append(face_encoding)"
      ]
    },
    {
      "cell_type": "code",
      "execution_count": null,
      "metadata": {
        "id": "kChMcavxhYDJ"
      },
      "outputs": [],
      "source": [
        "print(len(model_scores))\n",
        "model_scores[0]"
      ]
    },
    {
      "cell_type": "code",
      "execution_count": null,
      "metadata": {
        "collapsed": true,
        "id": "rLe16sSF4r_z"
      },
      "outputs": [],
      "source": [
        "# Jämför vektorerna för alla bildpar. Visa bilderna om samma person.\n",
        "# Testa oxå med tolerance=0.7\n",
        "differs = []\n",
        "same = 0\n",
        "print(\"Samma person:\")\n",
        "for idx in range(len(model_scores)):\n",
        "  for idy in range(idx + 1, len(model_scores)):\n",
        "    result = face_recognition.compare_faces(model_scores[idx][0], model_scores[idy], tolerance=0.6)\n",
        "    if (result[0]): # samma\n",
        "      same = same + 1\n",
        "      # Printing the IDs of faces\n",
        "      print(idx+1, idy+1)\n",
        "      #continue\n",
        "      # Displaying each matched pair of faces\n",
        "      plt.figure(figsize=(4, 4))\n",
        "      plt.subplot(1, 2, 1)\n",
        "      plt.axis('off')\n",
        "      plt.imshow(celeb_faces[idx])\n",
        "      plt.subplot(1, 2, 2)\n",
        "      plt.axis('off')\n",
        "      plt.imshow(celeb_faces[idy])\n",
        "      plt.show()\n",
        "    else: # ej samma\n",
        "      differs.append(str(idx+1) + ':' + str(idy+1))\n",
        "print(\"Av 50 bildpar med samma person hittade vi \" + str(same))\n",
        "print(\"Olika personer:\")\n",
        "print(differs)"
      ]
    },
    {
      "cell_type": "markdown",
      "metadata": {
        "id": "sEdo-u3b_moo"
      },
      "source": [
        "## Kluster\n",
        "\n",
        "---\n",
        "\n",
        "Ett annat sätt att bestämma vilka bilder som föreställer samma person är att gruppera bilderna i kluster"
      ]
    },
    {
      "cell_type": "code",
      "execution_count": null,
      "metadata": {
        "id": "C-w2Z4vo_pVd"
      },
      "outputs": [],
      "source": [
        "# Varje bild representeras av en vektor\n",
        "len(model_scores)"
      ]
    },
    {
      "cell_type": "code",
      "execution_count": null,
      "metadata": {
        "id": "w0KkbpuvNl_1"
      },
      "outputs": [],
      "source": [
        "# gör om model_scores till np-arrayer (en matris)\n",
        "model_scores_np = np.vstack([encoding[0] for encoding in model_scores])\n",
        "print(model_scores_np.shape)"
      ]
    },
    {
      "cell_type": "code",
      "execution_count": null,
      "metadata": {
        "id": "3DpecaIK_ygZ"
      },
      "outputs": [],
      "source": [
        "# Vi har 5 kändisar - alltså vill vi ha 5 kluster från KMeans\n",
        "from sklearn.cluster import KMeans\n",
        "km = KMeans(n_clusters=5, init='random', n_init=10, max_iter=300, tol=1e-04, random_state=0)\n",
        "y_km = km.fit_predict(model_scores_np)\n",
        "# kluster-index för varje bild\n",
        "print(y_km)"
      ]
    },
    {
      "cell_type": "markdown",
      "metadata": {
        "id": "zDZsl7H9ANRz"
      },
      "source": [
        "### Plotta klustren i 2d"
      ]
    },
    {
      "cell_type": "code",
      "execution_count": null,
      "metadata": {
        "id": "_GEZIa5HAPuk"
      },
      "outputs": [],
      "source": [
        "# standardisera - förbättrar resultatet något\n",
        "from sklearn.preprocessing import StandardScaler\n",
        "sc = StandardScaler()\n",
        "X_std = sc.fit_transform(model_scores_np)"
      ]
    },
    {
      "cell_type": "code",
      "execution_count": null,
      "metadata": {
        "id": "TmrMoRMmAY-r"
      },
      "outputs": [],
      "source": [
        "# Minska vektorerna från 128d till 2d med PCA\n",
        "from sklearn.decomposition import PCA\n",
        "# init PCA transformer till 2d\n",
        "pca = PCA(n_components=2)\n",
        "# dimensionality reduction:\n",
        "X_pca = pca.fit_transform(X_std)\n",
        "X_pca.shape"
      ]
    },
    {
      "cell_type": "code",
      "execution_count": null,
      "metadata": {
        "id": "KtHqH9S8A93u"
      },
      "outputs": [],
      "source": [
        "# Plotta punkterna i 2d\n",
        "import matplotlib.pyplot as plt\n",
        "act_part = X_pca[:5]\n",
        "plt.scatter(act_part[:, 0], act_part[:, 1],\n",
        "            c='green', marker='x', s=50, label='Ben')\n",
        "act_part = X_pca[5:10]\n",
        "plt.scatter(act_part[:, 0], act_part[:, 1],\n",
        "            c='green', marker='*', edgecolor='green',s=50, label='Elton')\n",
        "act_part = X_pca[10:15]\n",
        "plt.scatter(act_part[:, 0], act_part[:, 1],\n",
        "            c='green', marker='o', edgecolor='green',s=50, label='Jerry')\n",
        "act_part = X_pca[15:20]\n",
        "plt.scatter(act_part[:, 0], act_part[:, 1],\n",
        "            c='red', marker='o', edgecolor='red',s=50, label='Madonna')\n",
        "act_part = X_pca[20:25]\n",
        "plt.scatter(act_part[:, 0], act_part[:, 1],\n",
        "            c='yellow', marker='o', edgecolor='black',s=50, label='Mindy')\n",
        "plt.legend(scatterpoints=1)\n",
        "plt.grid()\n",
        "plt.title(\"2d representation (från 128d med PCA)\")\n",
        "plt.tight_layout()\n",
        "plt.show()"
      ]
    },
    {
      "cell_type": "markdown",
      "source": [
        "---\n",
        "#Shaderbooth - mera avancerad än 'Make up'\n",
        "\n",
        "Prova Shaderbooth på https://shaderbooth.com/\n",
        "\n",
        "Appen använder webbkameran och 'facial landmarks' för att lägga på olika effekter. Vänta tills appen går igång. Tryck på pilarna för att få olika effekter."
      ],
      "metadata": {
        "id": "enkKvBde-Stu"
      }
    }
  ],
  "metadata": {
    "accelerator": "GPU",
    "colab": {
      "gpuType": "L4",
      "provenance": [],
      "authorship_tag": "ABX9TyMXQGSSKhS7U3noBiRQDmBD",
      "include_colab_link": true
    },
    "kernelspec": {
      "display_name": "Python 3",
      "name": "python3"
    },
    "language_info": {
      "name": "python"
    }
  },
  "nbformat": 4,
  "nbformat_minor": 0
}