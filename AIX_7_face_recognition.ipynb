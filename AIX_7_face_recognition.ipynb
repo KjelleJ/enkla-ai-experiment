{
  "cells": [
    {
      "cell_type": "markdown",
      "metadata": {
        "id": "view-in-github",
        "colab_type": "text"
      },
      "source": [
        "<a href=\"https://colab.research.google.com/github/KjelleJ/enkla-ai-experiment/blob/main/AIX_7_face_recognition.ipynb\" target=\"_parent\"><img src=\"https://colab.research.google.com/assets/colab-badge.svg\" alt=\"Open In Colab\"/></a>"
      ]
    },
    {
      "cell_type": "markdown",
      "metadata": {
        "id": "mczs2M7DOe1Y"
      },
      "source": [
        "---\n",
        "#ANSIKTSIGENKÄNNING / FACE RECOGNITION med deepface\n",
        "https://github.com/serengil/deepface\n",
        "\n",
        "https://wellsr.com/python/face-recognition-with-python-deepface-library/\n",
        "\n",
        "https://www.sitepoint.com/keras-face-detection-recognition/\n",
        "\n",
        "---\n",
        "Görs i tre steg:\n",
        "1.   Lokalisera och 'klipp ut' alla ansikten i bilden (detektor)\n",
        "2.   Skapa en vektor (embedding) för varje ansikte (modell)\n",
        "3.   Jämför vektorer för att identifiera personer (cosine distance)\n",
        "\n",
        "Eller mera exakt:\n",
        "\"A modern face recognition pipeline consists of 5 common stages: **detect, align, normalize, represent and verify**. While DeepFace handles all these common stages in the background, you don’t need to acquire in-depth knowledge about all the processes behind it. You can just call its verification, find or analysis function with a single line of code.\"\n"
      ]
    },
    {
      "cell_type": "code",
      "execution_count": null,
      "metadata": {
        "id": "nirNJeF-ZYLS"
      },
      "outputs": [],
      "source": [
        "!pip install deepface"
      ]
    },
    {
      "cell_type": "code",
      "execution_count": null,
      "metadata": {
        "id": "2-NQRZ59ku2W"
      },
      "outputs": [],
      "source": [
        "from deepface import DeepFace\n",
        "import matplotlib.pyplot as plt\n",
        "import matplotlib.patches as patches\n",
        "import matplotlib.image as mpimg\n",
        "import os\n",
        "import requests\n",
        "import numpy as np\n",
        "from matplotlib.patches import Rectangle"
      ]
    },
    {
      "cell_type": "code",
      "execution_count": null,
      "metadata": {
        "id": "d_hHNQdcwVx7"
      },
      "outputs": [],
      "source": [
        "# Funktion: Hämta bild från url, lagra som lokal fil\n",
        "def get_img_to_file(url, path):\n",
        "  img_data = requests.get(url).content\n",
        "  with open(path, 'wb') as handler:\n",
        "      handler.write(img_data)"
      ]
    },
    {
      "cell_type": "markdown",
      "metadata": {
        "id": "QkzOAmG3MU3X"
      },
      "source": [
        "---\n",
        "# ENKELT FALL: 2 BILDER - ÄR DET SAMMA PERSON?\n",
        "---"
      ]
    },
    {
      "cell_type": "code",
      "source": [
        "get_img_to_file(\"https://www.download.gubboit.se/musk.JPG\", \"musk.JPG\")\n",
        "get_img_to_file(\"https://www.download.gubboit.se/musk2.JPG\", \"musk2.JPG\")\n",
        "get_img_to_file(\"https://gfx-bloggar.aftonbladet-cdn.se/wp-content/blogs.dir/518/files/2015/12/brigitte-1024x800.jpg\", \"star.jpg\")"
      ],
      "metadata": {
        "id": "g7lyomrWHH3X"
      },
      "execution_count": null,
      "outputs": []
    },
    {
      "cell_type": "markdown",
      "source": [
        "##Hitta ansikten i en bild"
      ],
      "metadata": {
        "id": "GFOpdc6yAjqr"
      }
    },
    {
      "cell_type": "code",
      "source": [
        "# extract_faces visar var ett ansikte finns i en bild\n",
        "result = DeepFace.extract_faces(img_path = \"musk.JPG\")\n",
        "result[0]['facial_area']\n"
      ],
      "metadata": {
        "id": "0rPa1mwydtWD"
      },
      "execution_count": null,
      "outputs": []
    },
    {
      "cell_type": "markdown",
      "source": [
        "##Markera ansikten i en bild"
      ],
      "metadata": {
        "id": "o_vflZKgCp3D"
      }
    },
    {
      "cell_type": "code",
      "source": [
        "# Funktion: Visa bild med en 'bounding box' per ansikte\n",
        "def highlight_faces(image_path, faces):\n",
        "  plt.figure(figsize=(10, 8))\n",
        "  # display image\n",
        "  image = plt.imread(image_path)\n",
        "  plt.imshow(image)\n",
        "\n",
        "  ax = plt.gca()\n",
        "\n",
        "  for i in range(len(faces)):\n",
        "    x = faces[i]['facial_area']['x']\n",
        "    y = faces[i]['facial_area']['y']\n",
        "    w = faces[i]['facial_area']['w']\n",
        "    h = faces[i]['facial_area']['h']\n",
        "\n",
        "    face_border = Rectangle((x,y), w, h,\n",
        "                          fill=False, color='red')\n",
        "    plt.text(x, y, str(i), color=\"red\",\n",
        "             fontdict={\"fontsize\":20,\"fontweight\":'bold',\"ha\":\"left\", \"va\":\"baseline\"})\n",
        "    ax.add_patch(face_border)\n",
        "    #i = i + 1\n",
        "  plt.axis('off')\n",
        "  plt.show()"
      ],
      "metadata": {
        "id": "LpLP1_Hu2_0h"
      },
      "execution_count": null,
      "outputs": []
    },
    {
      "cell_type": "code",
      "source": [
        "result = DeepFace.extract_faces(img_path = \"musk.JPG\")\n",
        "highlight_faces(\"musk.JPG\", result)"
      ],
      "metadata": {
        "id": "AbUoeT3OHAS8"
      },
      "execution_count": null,
      "outputs": []
    },
    {
      "cell_type": "code",
      "source": [
        "result = DeepFace.extract_faces(img_path = \"musk2.JPG\")\n",
        "highlight_faces(\"musk2.JPG\", result)"
      ],
      "metadata": {
        "id": "ZoMYM0uFBrlF"
      },
      "execution_count": null,
      "outputs": []
    },
    {
      "cell_type": "code",
      "source": [
        "result = DeepFace.extract_faces(img_path = \"star.jpg\")\n",
        "highlight_faces(\"star.jpg\", result)"
      ],
      "metadata": {
        "id": "q-YeMrNIKNdO"
      },
      "execution_count": null,
      "outputs": []
    },
    {
      "cell_type": "markdown",
      "source": [
        "##Jämför ansikten"
      ],
      "metadata": {
        "id": "G_5Jz5a9DQ-L"
      }
    },
    {
      "cell_type": "code",
      "source": [
        "result = DeepFace.verify(img1_path = \"musk.JPG\",\n",
        "                         img2_path = \"musk2.JPG\")"
      ],
      "metadata": {
        "id": "q4IIEvYRcnTq"
      },
      "execution_count": null,
      "outputs": []
    },
    {
      "cell_type": "code",
      "source": [
        "# Om verified=True är det samma person. Då är distance < threshold.\n",
        "result"
      ],
      "metadata": {
        "id": "1OKxmYumGQnc"
      },
      "execution_count": null,
      "outputs": []
    },
    {
      "cell_type": "code",
      "source": [
        "result = DeepFace.verify(img1_path = \"musk.JPG\",\n",
        "                         img2_path = \"star.jpg\")"
      ],
      "metadata": {
        "id": "pFN7sK_bqpBZ"
      },
      "execution_count": null,
      "outputs": []
    },
    {
      "cell_type": "code",
      "source": [
        "result"
      ],
      "metadata": {
        "id": "-okZPI6oqoxR"
      },
      "execution_count": null,
      "outputs": []
    },
    {
      "cell_type": "markdown",
      "metadata": {
        "id": "_7dpGSScpEA9"
      },
      "source": [
        "---\n",
        "#CHELSEA - 2 LAGBILDER\n",
        "---\n",
        "\n",
        "Vilka spelare från den första bilden finns med på den andra bilden?\n"
      ]
    },
    {
      "cell_type": "code",
      "execution_count": null,
      "metadata": {
        "id": "EFVfUWMkh42L"
      },
      "outputs": [],
      "source": [
        "# Spara lagbilderna på fil\n",
        "get_img_to_file(\"https://www.download.gubboit.se/chelsea1.jpg\", \"chelsea1.jpg\")\n",
        "get_img_to_file(\"https://www.download.gubboit.se/chelsea2.jpg\", \"chelsea2.jpg\")"
      ]
    },
    {
      "cell_type": "code",
      "source": [
        "result1 = DeepFace.represent(img_path = \"chelsea1.jpg\")\n",
        "print(len(result1))\n",
        "result1[0].keys()"
      ],
      "metadata": {
        "id": "jD7W7w1JyFKZ"
      },
      "execution_count": null,
      "outputs": []
    },
    {
      "cell_type": "code",
      "source": [
        "# Alltför dålig detektor, vi måste använda en bättre...\n",
        "highlight_faces(\"chelsea1.jpg\", result1)"
      ],
      "metadata": {
        "id": "-0CO9wx6ySDh"
      },
      "execution_count": null,
      "outputs": []
    },
    {
      "cell_type": "code",
      "source": [
        "# Nu med 'retinaface' i stället för 'opencv' och 'Facenet512'i stället för 'VGG-Face'\n",
        "result1 = DeepFace.represent(img_path = \"chelsea1.jpg\", detector_backend = 'retinaface', model_name='Facenet512')\n",
        "result1[0].keys()"
      ],
      "metadata": {
        "id": "a7kUSzxxO8Uf"
      },
      "execution_count": null,
      "outputs": []
    },
    {
      "cell_type": "code",
      "source": [
        "print(len(result1))"
      ],
      "metadata": {
        "id": "xW6yW7nGPcsd"
      },
      "execution_count": null,
      "outputs": []
    },
    {
      "cell_type": "code",
      "source": [
        "print(result1[0][\"facial_area\"])"
      ],
      "metadata": {
        "id": "UwcvDXl1zn-p"
      },
      "execution_count": null,
      "outputs": []
    },
    {
      "cell_type": "code",
      "source": [
        "highlight_faces(\"chelsea1.jpg\", result1)"
      ],
      "metadata": {
        "id": "MgBMfXtbpmz5"
      },
      "execution_count": null,
      "outputs": []
    },
    {
      "cell_type": "code",
      "source": [
        "result2 = DeepFace.represent(img_path = \"chelsea2.jpg\", detector_backend = 'retinaface', model_name='Facenet512')\n"
      ],
      "metadata": {
        "id": "czKr9t0N0Kmw"
      },
      "execution_count": null,
      "outputs": []
    },
    {
      "cell_type": "code",
      "source": [
        "highlight_faces(\"chelsea2.jpg\", result2)"
      ],
      "metadata": {
        "id": "yOZ94IiF0HTB"
      },
      "execution_count": null,
      "outputs": []
    },
    {
      "cell_type": "code",
      "source": [
        "# Funktion: Returnera inbäddningar för alla ansikten i en bild\n",
        "def embeddings(result):\n",
        "  X = np.zeros((len(result), len(result[0]['embedding'])))\n",
        "  for i in range(len(result)):\n",
        "    X[i:] = result[i]['embedding']\n",
        "  return X"
      ],
      "metadata": {
        "collapsed": true,
        "id": "TLMCHhS713dC"
      },
      "execution_count": null,
      "outputs": []
    },
    {
      "cell_type": "code",
      "execution_count": null,
      "metadata": {
        "id": "cwSua_TDh31Z"
      },
      "outputs": [],
      "source": [
        "X1 = embeddings(result1)\n"
      ]
    },
    {
      "cell_type": "code",
      "execution_count": null,
      "metadata": {
        "id": "3FtRYviZpwSU"
      },
      "outputs": [],
      "source": [
        "X1.shape"
      ]
    },
    {
      "cell_type": "code",
      "source": [
        "X2 = embeddings(result2)\n",
        "X2.shape"
      ],
      "metadata": {
        "id": "EmkAB6Ho8S0m"
      },
      "execution_count": null,
      "outputs": []
    },
    {
      "cell_type": "code",
      "source": [
        "from scipy.spatial import distance\n",
        "\n",
        "for i in range(len(result1)):\n",
        "  for j in range(len(result2)):\n",
        "    cos = distance.cosine(X1[i], X2[j])\n",
        "    if cos < 0.4: # default-värde\n",
        "      print(i, j, cos)"
      ],
      "metadata": {
        "id": "jqFLrV4G-CZ5"
      },
      "execution_count": null,
      "outputs": []
    },
    {
      "cell_type": "code",
      "source": [
        "highlight_faces(\"chelsea1.jpg\", result1)\n",
        "highlight_faces(\"chelsea2.jpg\", result2)"
      ],
      "metadata": {
        "id": "8fTM10HnewBs"
      },
      "execution_count": null,
      "outputs": []
    },
    {
      "cell_type": "code",
      "source": [],
      "metadata": {
        "id": "vtJmoDw7evvz"
      },
      "execution_count": null,
      "outputs": []
    },
    {
      "cell_type": "markdown",
      "source": [
        "##Laguppställningar\n",
        "Bild 1: **Kepa**, **Azpilicueta**, Luiz, **Christensen**, **Emerson**, **Kante**, Barkley, **Kovacic**, Hazard, **Pedro**, **Giroud**\n",
        "\n",
        "Bild 2:: **Kepa**, **Azpilicueta**, **Christensen**, Zouma, **Emerson**, **Kante**, Jorginho, **Kovacic**, **Pedro**, **Giroud**, Pulisic\n",
        "\n",
        "Det är alltså 8 spelare från bild1 som finns med i bild2. Nr 4, 7 och 9 från bild1 saknas i bild2 enligt prediktionen."
      ],
      "metadata": {
        "id": "xuyixNL8bf30"
      }
    },
    {
      "cell_type": "markdown",
      "metadata": {
        "id": "y1qbis4s1oOz"
      },
      "source": [
        "---\n",
        "#JÄMFÖR BILDER PÅ KÄNDISAR\n",
        "---\n",
        "##### Vilka bilder föreställer samma person?\n",
        "##### Kändisar: Ben Affleck, Elton John, Jerry Seinfeld, Madonna, Mindy Kaling"
      ]
    },
    {
      "cell_type": "code",
      "execution_count": null,
      "metadata": {
        "id": "f2-JwCRE1n16"
      },
      "outputs": [],
      "source": [
        "# Hämta bilderna. 25 bilder - 5 för varje kändis\n",
        "!rm -f 5celeb.zip*\n",
        "!wget download.gubboit.se/5celeb.zip"
      ]
    },
    {
      "cell_type": "code",
      "execution_count": null,
      "metadata": {
        "id": "jKXtDoVr1ni0"
      },
      "outputs": [],
      "source": [
        "!unzip -oq 5celeb.zip"
      ]
    },
    {
      "cell_type": "code",
      "execution_count": null,
      "metadata": {
        "id": "4upCHivs1nL7"
      },
      "outputs": [],
      "source": [
        "# 25 kändisbilder 1.jpg - 25.jpg.\n",
        "# 1-5 Ben, 6-10 Elton, 11-15 Jerry, 16-20 Madonna, 21-25 Mindy\n",
        "!ls 5celeb"
      ]
    },
    {
      "cell_type": "code",
      "source": [
        "result = DeepFace.represent(img_path = \"5celeb/10.jpg\", detector_backend = 'retinaface', model_name='Facenet512')"
      ],
      "metadata": {
        "id": "SD9AFRGYJVxW"
      },
      "execution_count": null,
      "outputs": []
    },
    {
      "cell_type": "code",
      "source": [
        "result[0]['facial_area']"
      ],
      "metadata": {
        "id": "Leufx8KBJsew"
      },
      "execution_count": null,
      "outputs": []
    },
    {
      "cell_type": "code",
      "execution_count": null,
      "metadata": {
        "id": "X-2klEUx2q77"
      },
      "outputs": [],
      "source": [
        "# Det här tar en stund...\n",
        "# För varje kändisbild:\n",
        "# - detektera ansiktet\n",
        "# - spara bilden av ansiktet (celeb_faces)\n",
        "# - spara vektorn som representertar ansiktet (model_scores)\n",
        "model_scores = []\n",
        "celeb_faces = []\n",
        "for i in range(1, 26):\n",
        "  file = '5celeb/' + str(i) + '.jpg'\n",
        "  result = DeepFace.represent(img_path = file, detector_backend = 'retinaface', model_name='Facenet512')\n",
        "  model_scores.append(result[0]['embedding'])\n",
        "  image = plt.imread(file)\n",
        "  face = result[0]['facial_area']\n",
        "  left = face['x']\n",
        "  top = face['y']\n",
        "  bottom = top + face['h']\n",
        "  right = left + face['w']\n",
        "  face_image = image[top:bottom, left:right]\n",
        "  celeb_faces.append(face_image)"
      ]
    },
    {
      "cell_type": "code",
      "execution_count": null,
      "metadata": {
        "collapsed": true,
        "id": "rLe16sSF4r_z"
      },
      "outputs": [],
      "source": [
        "# Jämför vektorerna för alla bildpar. Visa bilderna om samma person.\n",
        "from scipy.spatial import distance\n",
        "differs = []\n",
        "same = 0\n",
        "print(\"Samma person:\")\n",
        "for idx in range(len(model_scores)):\n",
        "  for idy in range(idx + 1, len(model_scores)):\n",
        "    dist = distance.cosine(model_scores[idx], model_scores[idy])\n",
        "    # 0.55 ger bästa resultat + inga fel...\n",
        "    if dist < 0.55:\n",
        "      same = same + 1\n",
        "      # Printing the IDs of faces\n",
        "      print(idx+1, idy+1)\n",
        "      # Displaying each matched pair of faces\n",
        "      plt.figure(figsize=(4, 4))\n",
        "      plt.subplot(1, 2, 1)\n",
        "      plt.axis('off')\n",
        "      plt.imshow(celeb_faces[idx])\n",
        "      plt.subplot(1, 2, 2)\n",
        "      plt.axis('off')\n",
        "      plt.imshow(celeb_faces[idy])\n",
        "      plt.show()\n",
        "    else: # ej samma\n",
        "      differs.append(str(idx+1) + ':' + str(idy+1))\n",
        "print(\"Av 50 bildpar med samma person hittade vi \" + str(same))\n",
        "print(\"Olika personer:\")\n",
        "print(differs)"
      ]
    },
    {
      "cell_type": "code",
      "source": [
        "# Alla ansikten\n",
        "\n",
        "i = 1\n",
        "while i < 25:\n",
        "    plt.figure(figsize=(8, 8))\n",
        "    print(f\"{i}-{i+4}\")\n",
        "    for j in range(5):\n",
        "      plt.subplot(1, 5, j+1)\n",
        "      plt.axis('off')\n",
        "      plt.imshow(celeb_faces[i + j - 1])\n",
        "    plt.show()\n",
        "    i = i + 5"
      ],
      "metadata": {
        "collapsed": true,
        "id": "RYRTspnX8anV"
      },
      "execution_count": null,
      "outputs": []
    },
    {
      "cell_type": "markdown",
      "metadata": {
        "id": "sEdo-u3b_moo"
      },
      "source": [
        "## Kluster\n",
        "\n",
        "---\n",
        "\n",
        "Ett annat sätt att bestämma vilka bilder som föreställer samma person är att gruppera bilderna i kluster. I stället för 'cosine distance' (vinkel mellan två vektorer) används avståndet mellan punkterna motsvarande vektorerna. Tröskelvärden behövs inte. Ingen modell."
      ]
    },
    {
      "cell_type": "code",
      "execution_count": null,
      "metadata": {
        "id": "C-w2Z4vo_pVd"
      },
      "outputs": [],
      "source": [
        "# Varje bild representeras av en vektor\n",
        "len(model_scores)"
      ]
    },
    {
      "cell_type": "code",
      "source": [
        "# gör om model_scores till np-arrayer (en matris)\n",
        "model_scores_np = np.vstack(model_scores)\n",
        "print(model_scores_np.shape)"
      ],
      "metadata": {
        "collapsed": true,
        "id": "FVLd5cmxRpbD"
      },
      "execution_count": null,
      "outputs": []
    },
    {
      "cell_type": "code",
      "execution_count": null,
      "metadata": {
        "id": "3DpecaIK_ygZ"
      },
      "outputs": [],
      "source": [
        "# Vi har 5 kändisar - alltså vill vi ha 5 kluster från KMeans\n",
        "from sklearn.cluster import KMeans\n",
        "km = KMeans(n_clusters=5, init='random', n_init=10, max_iter=300, tol=1e-04, random_state=0)\n",
        "y_km = km.fit_predict(model_scores_np)\n",
        "# kluster-index för varje bild 1-25\n",
        "print(y_km)"
      ]
    },
    {
      "cell_type": "markdown",
      "source": [
        "##Varför får vi mycket bättre resultat med KMeans (100%) än med 'cosine distance' (80%)?\n",
        "Samma vektorer men...\n",
        "\n",
        "\n",
        "KMeans skapar kluster baserat på avståndet mellan punkterna (som mosvarar vektorerna). Inget tröskelvärde.\n",
        "\n",
        "'Cosine distance' använder vinkeln mellan vektorerna samt ett tröskelvärde\n",
        "\n",
        "Troligtvis är det tröskelvärdet som är problemet - att hitta ett enda passande tröskelvärde. Men jämförelsen är inte helt rättvis: För KMeans utnyttjar vi att vi vet att det är fem kluster.\n"
      ],
      "metadata": {
        "id": "jr7A5SngYfIV"
      }
    },
    {
      "cell_type": "markdown",
      "metadata": {
        "id": "zDZsl7H9ANRz"
      },
      "source": [
        "### Plotta klustren i 2d"
      ]
    },
    {
      "cell_type": "code",
      "execution_count": null,
      "metadata": {
        "id": "_GEZIa5HAPuk"
      },
      "outputs": [],
      "source": [
        "# standardisera - förbättrar resultatet något\n",
        "from sklearn.preprocessing import StandardScaler\n",
        "sc = StandardScaler()\n",
        "X_std = sc.fit_transform(model_scores_np)"
      ]
    },
    {
      "cell_type": "code",
      "execution_count": null,
      "metadata": {
        "id": "TmrMoRMmAY-r"
      },
      "outputs": [],
      "source": [
        "# Minska vektorerna från 512d till 2d med PCA\n",
        "from sklearn.decomposition import PCA\n",
        "# init PCA transformer till 2d\n",
        "pca = PCA(n_components=2)\n",
        "# dimensionality reduction:\n",
        "X_pca = pca.fit_transform(X_std)\n",
        "X_pca.shape"
      ]
    },
    {
      "cell_type": "code",
      "execution_count": null,
      "metadata": {
        "id": "KtHqH9S8A93u"
      },
      "outputs": [],
      "source": [
        "# Plotta punkterna i 2d\n",
        "import matplotlib.pyplot as plt\n",
        "act_part = X_pca[:5]\n",
        "plt.scatter(act_part[:, 0], act_part[:, 1],\n",
        "            c='green', marker='x', s=50, label='Ben')\n",
        "act_part = X_pca[5:10]\n",
        "plt.scatter(act_part[:, 0], act_part[:, 1],\n",
        "            c='green', marker='*', edgecolor='green',s=50, label='Elton')\n",
        "act_part = X_pca[10:15]\n",
        "plt.scatter(act_part[:, 0], act_part[:, 1],\n",
        "            c='green', marker='o', edgecolor='green',s=50, label='Jerry')\n",
        "act_part = X_pca[15:20]\n",
        "plt.scatter(act_part[:, 0], act_part[:, 1],\n",
        "            c='red', marker='o', edgecolor='red',s=50, label='Madonna')\n",
        "act_part = X_pca[20:25]\n",
        "plt.scatter(act_part[:, 0], act_part[:, 1],\n",
        "            c='yellow', marker='o', edgecolor='black',s=50, label='Mindy')\n",
        "plt.legend(scatterpoints=1)\n",
        "plt.grid()\n",
        "plt.title(\"2d representation (från 128d med PCA)\")\n",
        "plt.tight_layout()\n",
        "plt.show()"
      ]
    },
    {
      "cell_type": "markdown",
      "source": [
        "---\n",
        "#Shaderbooth\n",
        "\n",
        "Prova Shaderbooth på https://shaderbooth.com/\n",
        "\n",
        "Appen använder webbkameran och 'facial landmarks' för att lägga på olika effekter. Vänta tills appen går igång. Tryck på pilarna för att få olika effekter."
      ],
      "metadata": {
        "id": "enkKvBde-Stu"
      }
    }
  ],
  "metadata": {
    "colab": {
      "provenance": [],
      "authorship_tag": "ABX9TyO90dq7dXWgOmBIvqLh/luS",
      "include_colab_link": true
    },
    "kernelspec": {
      "display_name": "Python 3",
      "name": "python3"
    },
    "language_info": {
      "name": "python"
    }
  },
  "nbformat": 4,
  "nbformat_minor": 0
}