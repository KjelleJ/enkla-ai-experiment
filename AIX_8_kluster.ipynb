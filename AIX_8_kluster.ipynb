{
  "cells": [
    {
      "cell_type": "markdown",
      "metadata": {
        "id": "view-in-github",
        "colab_type": "text"
      },
      "source": [
        "<a href=\"https://colab.research.google.com/github/KjelleJ/enkla-ai-experiment/blob/main/AIX_8_kluster.ipynb\" target=\"_parent\"><img src=\"https://colab.research.google.com/assets/colab-badge.svg\" alt=\"Open In Colab\"/></a>"
      ]
    },
    {
      "cell_type": "markdown",
      "id": "otherwise-ghana",
      "metadata": {
        "id": "otherwise-ghana"
      },
      "source": [
        "# Kluster"
      ]
    },
    {
      "cell_type": "markdown",
      "id": "preliminary-fifteen",
      "metadata": {
        "id": "preliminary-fifteen"
      },
      "source": [
        "---\n",
        "# Ett enkelt exempel: Skapa 3 kluster med totalt 200 punkter\n",
        "---"
      ]
    },
    {
      "cell_type": "code",
      "execution_count": null,
      "id": "governing-morgan",
      "metadata": {
        "id": "governing-morgan",
        "collapsed": true
      },
      "outputs": [],
      "source": [
        "# Skapa data-punkter till klustren\n",
        "# random_state=0 ger samma punkter varje gång\n",
        "from sklearn.datasets import make_blobs\n",
        "X, _ = make_blobs(n_samples=200, n_features=2, centers=3, cluster_std=0.5,\n",
        "    shuffle=True, random_state=0)\n",
        "print(X.shape)\n",
        "X"
      ]
    },
    {
      "cell_type": "code",
      "execution_count": null,
      "id": "prospective-opinion",
      "metadata": {
        "id": "prospective-opinion"
      },
      "outputs": [],
      "source": [
        "# Plotta data-punkterna som finns i X\n",
        "import matplotlib.pyplot as plt\n",
        "plt.scatter(X[:, 0], X[:, 1], c='white', marker='o', edgecolor='black', s=50)\n",
        "plt.title(\"3 kluster, 200 punkter\")\n",
        "plt.grid()\n",
        "plt.xlabel('X1')\n",
        "plt.ylabel('X2')\n",
        "plt.tight_layout()\n",
        "plt.show()"
      ]
    },
    {
      "cell_type": "markdown",
      "id": "boxed-tunisia",
      "metadata": {
        "id": "boxed-tunisia"
      },
      "source": [
        "---\n",
        "# k-means - bestäm kluster\n",
        "---"
      ]
    },
    {
      "cell_type": "code",
      "execution_count": null,
      "id": "weighted-involvement",
      "metadata": {
        "id": "weighted-involvement"
      },
      "outputs": [],
      "source": [
        "# Vilket kluster (av 3) tillhör datapunkterna i X?\n",
        "# Vilka är centrumpunkterna?\n",
        "from sklearn.cluster import KMeans\n",
        "km = KMeans(n_clusters=3, init='random', n_init=10, max_iter=300, tol=1e-04, random_state=0)\n",
        "y_km = km.fit_predict(X)\n",
        "print(y_km)\n",
        "print(km.cluster_centers_)"
      ]
    },
    {
      "cell_type": "code",
      "execution_count": null,
      "id": "absolute-ecuador",
      "metadata": {
        "scrolled": false,
        "id": "absolute-ecuador"
      },
      "outputs": [],
      "source": [
        "# Plotta klustren\n",
        "# Kluster 0\n",
        "plt.scatter(X[y_km == 0, 0], X[y_km == 0, 1],\n",
        "    s=50, c='green', marker='o', edgecolor='black', label='Kluster 0')\n",
        "# Kluster 1\n",
        "plt.scatter(X[y_km == 1, 0], X[y_km == 1, 1], s=50,\n",
        "            c='yellow', marker='o', edgecolor='black', label='Kluster 1')\n",
        "# Kluster 2\n",
        "plt.scatter(X[y_km == 2, 0], X[y_km == 2, 1], s=50, c='white',\n",
        " marker='o', edgecolor='black', label='Kluster 2')\n",
        "# Centrum\n",
        "plt.scatter(km.cluster_centers_[:, 0], km.cluster_centers_[:, 1], s=250,\n",
        "                marker='*', c='red', edgecolor='black', label='Centrum')\n",
        "plt.legend(scatterpoints=1)\n",
        "plt.grid()\n",
        "plt.title(\"Kluster bestämda av k-means\")\n",
        "plt.tight_layout()\n",
        "plt.show()"
      ]
    },
    {
      "cell_type": "markdown",
      "source": [
        "---\n",
        "# kNN - närmsta grannar. Ger vilket kluster en ny punkt tillhör\n",
        "---"
      ],
      "metadata": {
        "id": "tXwCS3npJ2Kd"
      },
      "id": "tXwCS3npJ2Kd"
    },
    {
      "cell_type": "code",
      "source": [
        "# Kolla i plottningen ovanför om resultatet är rimligt\n",
        "from sklearn.neighbors import NearestNeighbors\n",
        "from sklearn import neighbors\n",
        "clf = neighbors.KNeighborsClassifier(n_neighbors=14)\n",
        "# anpassa, y_km är label från k_means\n",
        "clf.fit(X, y_km)\n",
        "# gör en prediktion för en punkt\n",
        "for i in range(-3, 5, 2):\n",
        "  for j in range(-1, 6, 2):\n",
        "    pkt = [[float(i), float(j)]]\n",
        "    Z = clf.predict(pkt)\n",
        "    print(f\"punkt {pkt} tillhör kluster {Z[0]}\")"
      ],
      "metadata": {
        "id": "1XA6AsKVQP5h"
      },
      "id": "1XA6AsKVQP5h",
      "execution_count": null,
      "outputs": []
    },
    {
      "cell_type": "markdown",
      "source": [
        "---\n",
        "# EMBEDDINGS (INBÄDDNINGAR)\n",
        "###En inbäddning är en representation av något (ett ord, en bild,...) i form av en vektor. Här för ett antal bilder: 30 bilder + testbild\n",
        "---"
      ],
      "metadata": {
        "id": "leS5jBdz2lUZ"
      },
      "id": "leS5jBdz2lUZ"
    },
    {
      "cell_type": "code",
      "source": [
        "# Hämta bilderna och spara dom på fil\n",
        "import requests\n",
        "def get_img_to_file(url, path):\n",
        "  img_data = requests.get(url).content\n",
        "  with open(path, 'wb') as handler:\n",
        "      handler.write(img_data)\n",
        "\n",
        "for i in range(1, 11):\n",
        "  get_img_to_file(\"https://www.download.gubboit.se/class0/\" + str(i) + \".jpg\", \"0_\" + str(i) + \".jpg\")\n",
        "  get_img_to_file(\"https://www.download.gubboit.se/class1/\" + str(i) + \".jpg\", \"1_\" + str(i) + \".jpg\")\n",
        "  get_img_to_file(\"https://www.download.gubboit.se/class2/\" + str(i) + \".jpg\", \"2_\" + str(i) + \".jpg\")\n",
        "get_img_to_file(\"https://www.download.gubboit.se/test/\" + \"1.jpg\", \"t_\" + \"1.jpg\")"
      ],
      "metadata": {
        "id": "sXy-926z3yU9"
      },
      "id": "sXy-926z3yU9",
      "execution_count": null,
      "outputs": []
    },
    {
      "cell_type": "code",
      "execution_count": null,
      "id": "textile-courtesy",
      "metadata": {
        "id": "textile-courtesy",
        "collapsed": true
      },
      "outputs": [],
      "source": [
        "# Plotta bilderna - 10 granar, 10 stugor, 10 katter + testbild (hus)\n",
        "import matplotlib.pyplot as plt\n",
        "from pathlib import Path\n",
        "\n",
        "for i in range(3):\n",
        "    for j in range(1, 11):\n",
        "        plt.figure(figsize=(3, 2))\n",
        "        plt.axis('off')\n",
        "        print(str(i) + \"_\" + str(j) + \".jpg\")\n",
        "        plt.imshow(plt.imread(str(i) + \"_\" + str(j) + \".jpg\"))\n",
        "        plt.show()\n",
        "# testbild\n",
        "print(\"TESTBILD\")\n",
        "plt.figure(figsize=(3, 2))\n",
        "plt.axis('off')\n",
        "plt.imshow(plt.imread('t_1.jpg'))\n",
        "plt.show()"
      ]
    },
    {
      "cell_type": "markdown",
      "id": "harmful-shakespeare",
      "metadata": {
        "id": "harmful-shakespeare"
      },
      "source": [
        "---\n",
        "# Vi ska använda MobileNet som \"embedding model\"\n",
        "---\n",
        "\n",
        "Men först visar vi att MobileNet är en modell för bildigenkänning"
      ]
    },
    {
      "cell_type": "code",
      "source": [
        "import numpy as np\n",
        "import tensorflow as tf\n",
        "import matplotlib.pyplot as plt"
      ],
      "metadata": {
        "id": "1iwPUR5h3uad"
      },
      "id": "1iwPUR5h3uad",
      "execution_count": null,
      "outputs": []
    },
    {
      "cell_type": "code",
      "execution_count": null,
      "id": "worse-elizabeth",
      "metadata": {
        "id": "worse-elizabeth"
      },
      "outputs": [],
      "source": [
        "# Hämta MobileNetv2 - hela modellen\n",
        "from tensorflow import keras\n",
        "\n",
        "model = keras.applications.MobileNetV2(\n",
        "    weights=\"imagenet\",\n",
        "    include_top=True,\n",
        "    input_shape=(160, 160, 3))"
      ]
    },
    {
      "cell_type": "code",
      "source": [
        "model.summary()"
      ],
      "metadata": {
        "id": "C7gkPDuu2NNY"
      },
      "id": "C7gkPDuu2NNY",
      "execution_count": null,
      "outputs": []
    },
    {
      "cell_type": "markdown",
      "source": [
        "**MobileNet** är tränat med dataset **ImageNet**.\n",
        "\n",
        "Det finns 1000 klasser i ImageNet. En beskrivning av klasserna finns här:\n",
        "\n",
        "https://deeplearning.cms.waikato.ac.nz/user-guide/class-maps/IMAGENET/"
      ],
      "metadata": {
        "id": "lcP72cG35S-_"
      },
      "id": "lcP72cG35S-_"
    },
    {
      "cell_type": "code",
      "source": [
        "# Predict med vår modell. Testa med katt och gran.\n",
        "# Det finns flera klasser för katter men ingen för gran.\n",
        "pimage = plt.imread(\"2_1.jpg\") # katt\n",
        "#pimage = plt.imread(\"0_3.jpg\") # gran\n",
        " # lägg till batch-dimension, normalisera till (0.0, 1.0)\n",
        "pimage = pimage.astype(np.float32)[np.newaxis, ...] / 255.\n",
        "# ändra storlek till 160x160\n",
        "pimage = tf.image.resize(pimage, (160, 160))\n",
        "np.argmax(model.predict(pimage))"
      ],
      "metadata": {
        "id": "k-qRJKk-3BCx"
      },
      "id": "k-qRJKk-3BCx",
      "execution_count": null,
      "outputs": []
    },
    {
      "cell_type": "markdown",
      "source": [
        "---\n",
        "#Skapa vektorer/inbäddningar för bilderna med hjälp av en inbäddningsmodell\n",
        "---\n",
        "\n",
        "Vi använder MobileNetV2 men nu utan topp för att kunna skapa inbäddningar"
      ],
      "metadata": {
        "id": "F83ecu1Y_Ts_"
      },
      "id": "F83ecu1Y_Ts_"
    },
    {
      "cell_type": "code",
      "source": [
        "# Hämta MobileNetv2 - nu utan topp för att kunna skapa inbäddningar\n",
        "conv_base = keras.applications.MobileNetV2(\n",
        "    weights=\"imagenet\",\n",
        "    include_top=False,\n",
        "    input_shape=(160, 160, 3))"
      ],
      "metadata": {
        "id": "Kq2qikua2ANz"
      },
      "id": "Kq2qikua2ANz",
      "execution_count": null,
      "outputs": []
    },
    {
      "cell_type": "code",
      "execution_count": null,
      "id": "worthy-station",
      "metadata": {
        "scrolled": false,
        "id": "worthy-station",
        "collapsed": true
      },
      "outputs": [],
      "source": [
        "conv_base.summary()"
      ]
    },
    {
      "cell_type": "markdown",
      "id": "advanced-florida",
      "metadata": {
        "id": "advanced-florida"
      },
      "source": [
        "### Definiera vår modell"
      ]
    },
    {
      "cell_type": "code",
      "execution_count": null,
      "id": "broken-collect",
      "metadata": {
        "id": "broken-collect"
      },
      "outputs": [],
      "source": [
        "from tensorflow import keras\n",
        "from tensorflow.keras import layers\n",
        "\n",
        "inputs = keras.Input(shape=(160, 160, 3))\n",
        "x = conv_base(inputs)\n",
        "x = layers.MaxPooling2D(pool_size=5)(x)\n",
        "outputs = layers.Flatten()(x)\n",
        "\n",
        "model = keras.Model(inputs, outputs)"
      ]
    },
    {
      "cell_type": "code",
      "execution_count": null,
      "id": "favorite-fields",
      "metadata": {
        "id": "favorite-fields"
      },
      "outputs": [],
      "source": [
        "model.summary()"
      ]
    },
    {
      "cell_type": "markdown",
      "id": "third-blanket",
      "metadata": {
        "id": "third-blanket"
      },
      "source": [
        "### Beräkna vektorerna för bilderna"
      ]
    },
    {
      "cell_type": "code",
      "execution_count": null,
      "id": "nutritional-theology",
      "metadata": {
        "id": "nutritional-theology"
      },
      "outputs": [],
      "source": [
        "import numpy as np\n",
        "import tensorflow as tf\n",
        "import matplotlib.pyplot as plt\n",
        "\n",
        "k = 0\n",
        "X = np.zeros((31, 1280))\n",
        "for i in range(3):\n",
        "    for j in range(1, 11):\n",
        "        pimage = plt.imread(str(i) + \"_\" + str(j) + \".jpg\")\n",
        "        # lägg till batch-dimension, normalisera till (0.0, 1.0)\n",
        "        pimage = pimage.astype(np.float32)[np.newaxis, ...] / 255.\n",
        "        # ändra storlek till 160x160\n",
        "        pimage = tf.image.resize(pimage, (160, 160))\n",
        "        X[k,:] = model.predict(pimage, verbose=0)[0]\n",
        "        k = k + 1\n",
        "# Testbild\n",
        "pimage = plt.imread(\"t_1.jpg\")\n",
        " # lägg till batch-dimension, normalisera till (0.0, 1.0)\n",
        "pimage = pimage.astype(np.float32)[np.newaxis, ...] / 255.\n",
        "# ändra storlek till 160x160\n",
        "pimage = tf.image.resize(pimage, (160, 160))\n",
        "X[k,:] = model.predict(pimage)[0]"
      ]
    },
    {
      "cell_type": "code",
      "execution_count": null,
      "id": "accompanied-hayes",
      "metadata": {
        "id": "accompanied-hayes"
      },
      "outputs": [],
      "source": [
        "# Varje vektor innehåller 1280 element. 31 vektorer i matrisen X.\n",
        "X.shape"
      ]
    },
    {
      "cell_type": "markdown",
      "id": "generic-sampling",
      "metadata": {
        "id": "generic-sampling"
      },
      "source": [
        "## Bestäm klustren med k-means"
      ]
    },
    {
      "cell_type": "code",
      "execution_count": null,
      "id": "activated-membrane",
      "metadata": {
        "id": "activated-membrane"
      },
      "outputs": [],
      "source": [
        "# Bestäm klustren (0, 1 eller 2) för X:s datapunkter\n",
        "# Om det funkar bör resultatet bli:\n",
        "# [0 0 0 0 0 0 0 0 0 0 1 1 1 1 1 1 1 1 1 1 2 2 2 2 2 2 2 2 2 2 1]\n",
        "# Rader i X:\n",
        "# 0-9 granar\n",
        "# 10-19 stugor\n",
        "# 20-29 katter\n",
        "# 30: stuga (test)\n",
        "from sklearn.cluster import KMeans\n",
        "km = KMeans(n_clusters=3, init='random', n_init=10, max_iter=300, tol=1e-04, random_state=0)\n",
        "y_km = km.fit_predict(X)\n",
        "print(y_km)"
      ]
    },
    {
      "cell_type": "markdown",
      "source": [
        "## kNN - närmsta grannar"
      ],
      "metadata": {
        "id": "-Y3_Z8LQzXjC"
      },
      "id": "-Y3_Z8LQzXjC"
    },
    {
      "cell_type": "code",
      "source": [
        "from sklearn.neighbors import NearestNeighbors\n",
        "from sklearn import neighbors\n",
        "# labels (klasser) för punkt 0-29 (från k-means tidigare)\n",
        "y0_29 = y_km[:30]\n",
        "# punkt 0-29\n",
        "X0_29 = X[:30, :]\n",
        "clf = neighbors.KNeighborsClassifier(n_neighbors=5)\n",
        "# anpassa\n",
        "clf.fit(X0_29, y0_29)\n",
        "# gör en prediktion på punkt 30\n",
        "Z = clf.predict(X[30:, :])\n",
        "print(f\"kNN säger kluster {Z[0]} för punkt 30\")\n",
        "print(f\"k-means säger kluster {y_km[30]} för punkt 30\")"
      ],
      "metadata": {
        "id": "yli8agB_zlKY"
      },
      "id": "yli8agB_zlKY",
      "execution_count": null,
      "outputs": []
    },
    {
      "cell_type": "markdown",
      "id": "incorporated-designer",
      "metadata": {
        "id": "incorporated-designer"
      },
      "source": [
        "## Visualisera"
      ]
    },
    {
      "cell_type": "code",
      "execution_count": null,
      "id": "wrapped-orlando",
      "metadata": {
        "id": "wrapped-orlando"
      },
      "outputs": [],
      "source": [
        "# standardisera - förbättrar resultatet något\n",
        "from sklearn.preprocessing import StandardScaler\n",
        "sc = StandardScaler()\n",
        "X_std = sc.fit_transform(X)"
      ]
    },
    {
      "cell_type": "code",
      "execution_count": null,
      "id": "excellent-pencil",
      "metadata": {
        "id": "excellent-pencil"
      },
      "outputs": [],
      "source": [
        "# Gå från 1280 dimensioner till 2 dimensioner med hjälp av PCA\n",
        "# Möjliggör plotning\n",
        "from sklearn.decomposition import PCA\n",
        "# init PCA transformer till 2d\n",
        "pca = PCA(n_components=2)\n",
        "# dimensionality reduction:\n",
        "X_pca = pca.fit_transform(X_std)\n",
        "X_pca.shape"
      ]
    },
    {
      "cell_type": "code",
      "execution_count": null,
      "id": "capable-casting",
      "metadata": {
        "id": "capable-casting"
      },
      "outputs": [],
      "source": [
        "# Plotta punkterna i 2d\n",
        "# 10 bilder av gran, 10 bilder av stuga, 10 bilder av katt\n",
        "# testbild: stuga\n",
        "import matplotlib.pyplot as plt\n",
        "act_part = X_pca[:8]\n",
        "plt.scatter(act_part[:, 0], act_part[:, 1],\n",
        "            c='green', marker='x', s=50, label='gran')\n",
        "act_part = X_pca[8:9]\n",
        "plt.scatter(act_part[:, 0], act_part[:, 1],\n",
        "            c='green', marker='*', edgecolor='green',s=100, label='julgran')\n",
        "act_part = X_pca[9:10]\n",
        "plt.scatter(act_part[:, 0], act_part[:, 1],\n",
        "            c='green', marker='x', s=50,)\n",
        "act_part = X_pca[10:20]\n",
        "plt.scatter(act_part[:, 0], act_part[:, 1],\n",
        "            c='red', marker='o', edgecolor='red',s=50, label='stuga')\n",
        "act_part = X_pca[20:30]\n",
        "plt.scatter(act_part[:, 0], act_part[:, 1],\n",
        "            c='black', marker='o', edgecolor='black',s=50, label='katt')\n",
        "act_part = X_pca[30:]\n",
        "plt.scatter(act_part[:, 0], act_part[:, 1],\n",
        "            c='red', marker='x', s=50, label='stuga (test)')\n",
        "plt.legend(scatterpoints=1)\n",
        "plt.grid()\n",
        "plt.title(\"2d representation (från 1280d med PCA)\")\n",
        "plt.tight_layout()\n",
        "plt.show()"
      ]
    },
    {
      "cell_type": "code",
      "execution_count": null,
      "id": "verified-church",
      "metadata": {
        "id": "verified-church"
      },
      "outputs": [],
      "source": [
        "# Gå till 2d men utan PCA\n",
        "X2 = np.zeros((31, 2))\n",
        "X2[:, 0] = X[:, 400]\n",
        "X2[:, 1] = X[:, 800]\n",
        "X2.shape"
      ]
    },
    {
      "cell_type": "code",
      "execution_count": null,
      "id": "bridal-aquatic",
      "metadata": {
        "id": "bridal-aquatic"
      },
      "outputs": [],
      "source": [
        "# 10 bilder av gran, 10 bilder av stuga, 10 bilder av katt\n",
        "# testbild: stuga\n",
        "import matplotlib.pyplot as plt\n",
        "act_part = X2[:8]\n",
        "plt.scatter(act_part[:, 0], act_part[:, 1],\n",
        "            c='green', marker='x', s=50, label='gran')\n",
        "act_part = X2[8:9]\n",
        "plt.scatter(act_part[:, 0], act_part[:, 1],\n",
        "            c='green', marker='*', edgecolor='green',s=100, label='julgran')\n",
        "act_part = X2[9:10]\n",
        "plt.scatter(act_part[:, 0], act_part[:, 1],\n",
        "            c='green', marker='x',s=50,)\n",
        "act_part = X2[10:20]\n",
        "plt.scatter(act_part[:, 0], act_part[:, 1],\n",
        "            c='red', marker='o', edgecolor='red',s=50, label='stuga')\n",
        "act_part = X2[20:30]\n",
        "plt.scatter(act_part[:, 0], act_part[:, 1],\n",
        "            c='black', marker='o', edgecolor='black',s=50, label='katt')\n",
        "act_part = X2[30:]\n",
        "plt.scatter(act_part[:, 0], act_part[:, 1],\n",
        "            c='red', marker='x',s=50, label='stuga (test)')\n",
        "plt.legend(scatterpoints=1)\n",
        "plt.grid()\n",
        "plt.title(\"2d representation (från 1280d utan PCA)\")\n",
        "plt.tight_layout()\n",
        "plt.show()"
      ]
    },
    {
      "cell_type": "code",
      "execution_count": null,
      "id": "sunset-gravity",
      "metadata": {
        "id": "sunset-gravity"
      },
      "outputs": [],
      "source": []
    }
  ],
  "metadata": {
    "kernelspec": {
      "display_name": "Python 3 (ipykernel)",
      "language": "python",
      "name": "python3"
    },
    "language_info": {
      "codemirror_mode": {
        "name": "ipython",
        "version": 3
      },
      "file_extension": ".py",
      "mimetype": "text/x-python",
      "name": "python",
      "nbconvert_exporter": "python",
      "pygments_lexer": "ipython3",
      "version": "3.7.13"
    },
    "colab": {
      "provenance": [],
      "include_colab_link": true
    }
  },
  "nbformat": 4,
  "nbformat_minor": 5
}