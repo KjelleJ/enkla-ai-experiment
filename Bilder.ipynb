{
  "nbformat": 4,
  "nbformat_minor": 0,
  "metadata": {
    "colab": {
      "provenance": [],
      "authorship_tag": "ABX9TyM5ddeM+YWyhg8CRI/B96dQ",
      "include_colab_link": true
    },
    "kernelspec": {
      "name": "python3",
      "display_name": "Python 3"
    },
    "language_info": {
      "name": "python"
    }
  },
  "cells": [
    {
      "cell_type": "markdown",
      "metadata": {
        "id": "view-in-github",
        "colab_type": "text"
      },
      "source": [
        "<a href=\"https://colab.research.google.com/github/KjelleJ/enkla-ai-experiment/blob/main/Bilder.ipynb\" target=\"_parent\"><img src=\"https://colab.research.google.com/assets/colab-badge.svg\" alt=\"Open In Colab\"/></a>"
      ]
    },
    {
      "cell_type": "code",
      "execution_count": null,
      "metadata": {
        "id": "DGR5t46kRK0q"
      },
      "outputs": [],
      "source": [
        "import matplotlib.pyplot as plt\n",
        "import numpy as np\n",
        "import requests"
      ]
    },
    {
      "cell_type": "code",
      "source": [
        "# hämta från url, lagra som lokal fil\n",
        "def get_img_to_file(url, path):\n",
        "  img_data = requests.get(url).content\n",
        "  with open(path, 'wb') as handler:\n",
        "      handler.write(img_data)\n",
        "\n",
        "get_img_to_file(\"https://www.download.gubboit.se/musk2.JPG\", \"musk\")"
      ],
      "metadata": {
        "id": "COi0gpm6Reg8"
      },
      "execution_count": null,
      "outputs": []
    },
    {
      "cell_type": "markdown",
      "source": [
        "#BILDSTORLEK"
      ],
      "metadata": {
        "id": "meEWBrOfG4RP"
      }
    },
    {
      "cell_type": "code",
      "source": [
        "# På disk (bytes). På disken är bilden komprimerad.\n",
        "!ls -l musk"
      ],
      "metadata": {
        "id": "e17p-1pFSWe9"
      },
      "execution_count": null,
      "outputs": []
    },
    {
      "cell_type": "code",
      "source": [
        "image = plt.imread('musk')\n",
        "plt.imshow(image)"
      ],
      "metadata": {
        "id": "VdYwJpKlSdl5"
      },
      "execution_count": null,
      "outputs": []
    },
    {
      "cell_type": "code",
      "source": [
        "print(image.shape)\n",
        "print(image.shape[0])\n",
        "print(image.shape[1])\n",
        "print(image.shape[2])"
      ],
      "metadata": {
        "id": "0X-Y4CMWS-JU"
      },
      "execution_count": null,
      "outputs": []
    },
    {
      "cell_type": "code",
      "source": [
        "# I minnet (bytes). Nu är bilden inte komprimerad. Antal pixlar. Varje pixel är 1 byte.\n",
        "image.shape[0]*image.shape[1]*image.shape[2]"
      ],
      "metadata": {
        "id": "SjC3M5_ATC6Z"
      },
      "execution_count": null,
      "outputs": []
    },
    {
      "cell_type": "code",
      "source": [
        "# Modeller kräver ofta att varje pixel är ett flyttal. Bilden blir nu 4 gånger större.\n",
        "image.shape[0]*image.shape[1]*image.shape[2]*4"
      ],
      "metadata": {
        "id": "TjHFDuatUOiU"
      },
      "execution_count": null,
      "outputs": []
    },
    {
      "cell_type": "markdown",
      "source": [
        "#FÄRGKANALER - RGB"
      ],
      "metadata": {
        "id": "RH24TbLWJVI3"
      }
    },
    {
      "cell_type": "code",
      "source": [
        "bild = np.zeros_like(image)   # alla pixlar = 0\n",
        "bild[:, :, 0] = image[:, :, 0]  # kopiera in första kanalen (R)\n",
        "plt.imshow(bild)"
      ],
      "metadata": {
        "id": "ESpXB2iIWTmt"
      },
      "execution_count": null,
      "outputs": []
    },
    {
      "cell_type": "code",
      "source": [
        "bild = np.zeros_like(image)\n",
        "bild[:, :, 1] = image[:, :, 1]\n",
        "plt.imshow(bild)"
      ],
      "metadata": {
        "id": "twyw6Tu2ZRIz"
      },
      "execution_count": null,
      "outputs": []
    },
    {
      "cell_type": "code",
      "source": [
        "bild = np.zeros_like(image)\n",
        "bild[:, :, 2] = image[:, :, 2]\n",
        "plt.imshow(bild)"
      ],
      "metadata": {
        "id": "os7Z58uuJ-RI"
      },
      "execution_count": null,
      "outputs": []
    },
    {
      "cell_type": "code",
      "source": [
        "bild = np.zeros_like(image)\n",
        "bild[:, :, 0] = image[:, :, 0]\n",
        "bild[:, :, 1] = image[:, :, 1]\n",
        "plt.imshow(bild)"
      ],
      "metadata": {
        "id": "WhzsIFNkZSN5"
      },
      "execution_count": null,
      "outputs": []
    },
    {
      "cell_type": "code",
      "source": [
        "bild = np.zeros_like(image)\n",
        "bild[:, :, 0] = image[:, :, 0]\n",
        "bild[:, :, 1] = image[:, :, 1]\n",
        "bild[:, :, 2] = image[:, :, 2]\n",
        "plt.imshow(bild)"
      ],
      "metadata": {
        "id": "SB4UvB7bKzZz"
      },
      "execution_count": null,
      "outputs": []
    },
    {
      "cell_type": "markdown",
      "source": [
        "#FÄRGBILD -> SVARTVIT BILD"
      ],
      "metadata": {
        "id": "z3n1MshRmNy-"
      }
    },
    {
      "cell_type": "code",
      "source": [
        "# plt.imshow ger fel \"färger\" om bara 1 kanal används\n",
        "\n",
        "R = np.array(image[:, :, 0]) # röd bild\n",
        "G = np.array(image[:, :, 1]) # grön bild\n",
        "B = np.array(image[:, :, 2]) # blå bild\n",
        "\n",
        "print(f\"R.shape={R.shape}\")\n",
        "\n",
        "# Kanaler viktas för att ge en naturlig gråskala\n",
        "R = (R *.299)\n",
        "G = (G *.587)\n",
        "B = (B *.114)\n",
        "\n",
        "Avg = (R+G+B) # bild med gråskala\n",
        "\n",
        "print(f\"{Avg.shape} utan cmap='gray'\", )\n",
        "plt.imshow(Avg)\n",
        "plt.show()\n",
        "\n",
        "print(f\"{Avg.shape} med cmap='gray'\", )\n",
        "plt.imshow(Avg, cmap='gray')\n",
        "plt.show()\n",
        "\n",
        "grayImage = image.copy()\n",
        "for i in range(3):\n",
        "    grayImage[:,:,i] = Avg\n",
        "print(f\"{grayImage.shape} med 3 svv kanaler\", )\n",
        "plt.imshow(grayImage)\n",
        "plt.show()"
      ],
      "metadata": {
        "id": "MrwMEuaDz9rC"
      },
      "execution_count": null,
      "outputs": []
    },
    {
      "cell_type": "markdown",
      "source": [
        "#LJUSARE / MÖRKARE BILD"
      ],
      "metadata": {
        "id": "-kX3oE1boA2V"
      }
    },
    {
      "cell_type": "code",
      "source": [
        "# pixlar=0 -> svart bild\n",
        "bild = np.zeros_like(image)\n",
        "plt.imshow(bild)"
      ],
      "metadata": {
        "id": "_8T_K9cge2OV"
      },
      "execution_count": null,
      "outputs": []
    },
    {
      "cell_type": "code",
      "source": [
        "# pixlar=255 -> vit bild\n",
        "bild = image.copy()\n",
        "bild[:, :, :] = 255\n",
        "plt.imshow(bild)"
      ],
      "metadata": {
        "id": "JSdB8TUrfCYV"
      },
      "execution_count": null,
      "outputs": []
    },
    {
      "cell_type": "code",
      "source": [
        "# Ljusare bild\n",
        "bild = image.copy()\n",
        "for i in range(bild.shape[0]):\n",
        "    for j in range(bild.shape[1]):\n",
        "      for k in range(bild.shape[2]):\n",
        "        bild[i, j, k] = min(bild[i, j, k] + 100, 255)\n",
        "plt.imshow(bild)"
      ],
      "metadata": {
        "id": "VBeeW-YFrPMj"
      },
      "execution_count": null,
      "outputs": []
    },
    {
      "cell_type": "code",
      "source": [
        "# Mörkare bild\n",
        "bild = image.copy()\n",
        "for i in range(bild.shape[0]):\n",
        "    for j in range(bild.shape[1]):\n",
        "      for k in range(bild.shape[2]):\n",
        "        bild[i, j, k] = max(bild[i, j, k] - 50, 0)\n",
        "plt.imshow(bild)"
      ],
      "metadata": {
        "id": "LW8VduZu0UkX"
      },
      "execution_count": null,
      "outputs": []
    }
  ]
}