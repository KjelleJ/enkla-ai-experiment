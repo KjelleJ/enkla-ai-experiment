{
  "cells": [
    {
      "cell_type": "markdown",
      "metadata": {
        "id": "view-in-github",
        "colab_type": "text"
      },
      "source": [
        "<a href=\"https://colab.research.google.com/github/KjelleJ/enkla-ai-experiment/blob/main/Python.ipynb\" target=\"_parent\"><img src=\"https://colab.research.google.com/assets/colab-badge.svg\" alt=\"Open In Colab\"/></a>"
      ]
    },
    {
      "cell_type": "markdown",
      "id": "historic-checkout",
      "metadata": {
        "id": "historic-checkout"
      },
      "source": [
        "# Indentering"
      ]
    },
    {
      "cell_type": "code",
      "execution_count": null,
      "id": "thirty-lemon",
      "metadata": {
        "id": "thirty-lemon",
        "outputId": "810e8554-f137-4ef2-ff2e-39f3b7728f71"
      },
      "outputs": [
        {
          "name": "stdout",
          "output_type": "stream",
          "text": [
            "1\n",
            "2\n",
            "3\n",
            "4\n"
          ]
        }
      ],
      "source": [
        "# indentering både i funktionsdefinitionen och i loopen\n",
        "\n",
        "def simple(start, stop):\n",
        "    for i in range(start, stop):\n",
        "        print(i)\n",
        "\n",
        "# funktionsanrop\n",
        "simple(1, 5)"
      ]
    },
    {
      "cell_type": "markdown",
      "id": "complimentary-regression",
      "metadata": {
        "id": "complimentary-regression"
      },
      "source": [
        "# Några datatyper"
      ]
    },
    {
      "cell_type": "markdown",
      "id": "overall-psychiatry",
      "metadata": {
        "id": "overall-psychiatry"
      },
      "source": [
        "## List - här används hak-parenteser []"
      ]
    },
    {
      "cell_type": "code",
      "execution_count": null,
      "id": "accompanied-quebec",
      "metadata": {
        "id": "accompanied-quebec"
      },
      "outputs": [],
      "source": [
        "# elementen i listan kan vara av olika datatyper och också blandat\n",
        "lista = [1, 2, 3, 4, 5, 6, 7, 8]"
      ]
    },
    {
      "cell_type": "code",
      "execution_count": null,
      "id": "governmental-organization",
      "metadata": {
        "id": "governmental-organization",
        "outputId": "36cf9b20-41a2-4bc5-f0d4-f40442912562"
      },
      "outputs": [
        {
          "data": {
            "text/plain": [
              "list"
            ]
          },
          "execution_count": 13,
          "metadata": {},
          "output_type": "execute_result"
        }
      ],
      "source": [
        "type(lista)"
      ]
    },
    {
      "cell_type": "code",
      "execution_count": null,
      "id": "placed-substance",
      "metadata": {
        "id": "placed-substance",
        "outputId": "6aee1a8e-3921-4cbc-86b9-e251b49fe953"
      },
      "outputs": [
        {
          "data": {
            "text/plain": [
              "1"
            ]
          },
          "execution_count": 14,
          "metadata": {},
          "output_type": "execute_result"
        }
      ],
      "source": [
        "# index startar från 0 - så första elementet är...\n",
        "lista[0]"
      ]
    },
    {
      "cell_type": "code",
      "execution_count": null,
      "id": "brutal-poster",
      "metadata": {
        "id": "brutal-poster",
        "outputId": "3660b9b0-59b7-4a2a-dda7-42b0a46fa585"
      },
      "outputs": [
        {
          "data": {
            "text/plain": [
              "8"
            ]
          },
          "execution_count": 15,
          "metadata": {},
          "output_type": "execute_result"
        }
      ],
      "source": [
        "# kan oxå indexeras bakifrån\n",
        "lista[-1]"
      ]
    },
    {
      "cell_type": "code",
      "execution_count": null,
      "id": "crazy-selection",
      "metadata": {
        "id": "crazy-selection",
        "outputId": "7ccaa517-8601-437f-f80a-791d9af180cc"
      },
      "outputs": [
        {
          "name": "stdout",
          "output_type": "stream",
          "text": [
            "[22, 2, 3, 4, 5, 6, 7, 8]\n"
          ]
        }
      ],
      "source": [
        "# listor kan ändras\n",
        "lista[0] = 22\n",
        "print(lista)"
      ]
    },
    {
      "cell_type": "code",
      "execution_count": null,
      "id": "overhead-reviewer",
      "metadata": {
        "id": "overhead-reviewer",
        "outputId": "54a64daf-9167-4d9c-dc72-2b43507eb50a"
      },
      "outputs": [
        {
          "name": "stdout",
          "output_type": "stream",
          "text": [
            "[22, [9, 10], 3, 4, 5, 6, 7, 8]\n"
          ]
        }
      ],
      "source": [
        "# listor kan ändras\n",
        "lista[1] = [9, 10]\n",
        "print(lista)"
      ]
    },
    {
      "cell_type": "code",
      "execution_count": null,
      "id": "starting-robinson",
      "metadata": {
        "id": "starting-robinson",
        "outputId": "617c1424-cb1a-4f7d-f3d7-55111511c50b"
      },
      "outputs": [
        {
          "name": "stdout",
          "output_type": "stream",
          "text": [
            "[22, [9, 10], 'tre', 4, 5, 6, 7, 8]\n"
          ]
        }
      ],
      "source": [
        "# listor kan ändras\n",
        "lista[2] = \"tre\"\n",
        "print(lista)"
      ]
    },
    {
      "cell_type": "markdown",
      "id": "periodic-combining",
      "metadata": {
        "id": "periodic-combining"
      },
      "source": [
        "## Dictionary - här används krull-parenteser {}"
      ]
    },
    {
      "cell_type": "code",
      "execution_count": null,
      "id": "comic-family",
      "metadata": {
        "id": "comic-family",
        "outputId": "b238595d-c56a-46da-c2c7-0a99c85d74d8"
      },
      "outputs": [
        {
          "name": "stdout",
          "output_type": "stream",
          "text": [
            "{1: 'ett', 2: 'två', 'tre': 3}\n"
          ]
        }
      ],
      "source": [
        "# definieras med nyckel:värde eller key:value\n",
        "dict = {1:\"ett\", 2:\"två\", \"tre\":3}\n",
        "print(dict)"
      ]
    },
    {
      "cell_type": "code",
      "execution_count": null,
      "id": "available-organ",
      "metadata": {
        "id": "available-organ",
        "outputId": "f714a30f-e393-4757-fadc-b2aaeba1cf9a"
      },
      "outputs": [
        {
          "data": {
            "text/plain": [
              "dict"
            ]
          },
          "execution_count": 20,
          "metadata": {},
          "output_type": "execute_result"
        }
      ],
      "source": [
        "type(dict)"
      ]
    },
    {
      "cell_type": "code",
      "execution_count": null,
      "id": "minimal-geneva",
      "metadata": {
        "id": "minimal-geneva",
        "outputId": "f9e5ea8e-99a6-48e5-e152-2a8b1e2c9e98"
      },
      "outputs": [
        {
          "data": {
            "text/plain": [
              "'ett'"
            ]
          },
          "execution_count": 21,
          "metadata": {},
          "output_type": "execute_result"
        }
      ],
      "source": [
        "# key 1\n",
        "dict[1]"
      ]
    },
    {
      "cell_type": "code",
      "execution_count": null,
      "id": "young-exclusion",
      "metadata": {
        "id": "young-exclusion",
        "outputId": "577846ac-245d-4fbf-a2d4-ad57c8a57f9a"
      },
      "outputs": [
        {
          "data": {
            "text/plain": [
              "3"
            ]
          },
          "execution_count": 22,
          "metadata": {},
          "output_type": "execute_result"
        }
      ],
      "source": [
        "# key 'tre'\n",
        "dict['tre']"
      ]
    },
    {
      "cell_type": "code",
      "execution_count": null,
      "id": "random-centre",
      "metadata": {
        "id": "random-centre",
        "outputId": "521bcf82-f2b5-45aa-c73e-9958784fe461"
      },
      "outputs": [
        {
          "name": "stdout",
          "output_type": "stream",
          "text": [
            "{1: 'första', 2: 'två', 'tre': 3}\n"
          ]
        }
      ],
      "source": [
        "dict[1] = \"första\"\n",
        "print(dict)"
      ]
    },
    {
      "cell_type": "markdown",
      "id": "olympic-train",
      "metadata": {
        "id": "olympic-train"
      },
      "source": [
        "# if-elif-else"
      ]
    },
    {
      "cell_type": "code",
      "execution_count": null,
      "id": "critical-territory",
      "metadata": {
        "id": "critical-territory",
        "outputId": "d9b52326-cc1c-436d-a0ad-fda278cc6d2f"
      },
      "outputs": [
        {
          "name": "stdout",
          "output_type": "stream",
          "text": [
            "x = 10\n"
          ]
        }
      ],
      "source": [
        "x = 10\n",
        "if x < 10:\n",
        "    print(\"x < 10\")\n",
        "elif x > 10:\n",
        "    print(\"x > 10\")\n",
        "else:\n",
        "    print(\"x = 10\")"
      ]
    },
    {
      "cell_type": "markdown",
      "id": "confident-truck",
      "metadata": {
        "id": "confident-truck"
      },
      "source": [
        "# while loop"
      ]
    },
    {
      "cell_type": "code",
      "execution_count": null,
      "id": "manual-stress",
      "metadata": {
        "id": "manual-stress",
        "outputId": "b177da95-d1af-4ac2-88f0-6fd085643f07"
      },
      "outputs": [
        {
          "name": "stdout",
          "output_type": "stream",
          "text": [
            "1\n",
            "2\n",
            "3\n",
            "4\n"
          ]
        }
      ],
      "source": [
        "i = 1\n",
        "while i < 5:\n",
        "    print(i)\n",
        "    # OBS i++ ej möjligt i Python\n",
        "    i = i + 1"
      ]
    },
    {
      "cell_type": "markdown",
      "id": "nasty-biography",
      "metadata": {
        "id": "nasty-biography"
      },
      "source": [
        "# for loop"
      ]
    },
    {
      "cell_type": "code",
      "execution_count": null,
      "id": "smaller-blocking",
      "metadata": {
        "id": "smaller-blocking",
        "outputId": "0ef7cd0b-1a3a-4bc5-8d74-de88a322ad2b"
      },
      "outputs": [
        {
          "name": "stdout",
          "output_type": "stream",
          "text": [
            "1\n",
            "2\n",
            "3\n",
            "4\n"
          ]
        }
      ],
      "source": [
        "for i in range(1, 5):\n",
        "    print(i)"
      ]
    },
    {
      "cell_type": "code",
      "execution_count": null,
      "id": "virgin-credits",
      "metadata": {
        "id": "virgin-credits",
        "outputId": "6ffd1a0b-8622-42ab-bc09-68351dcce970"
      },
      "outputs": [
        {
          "name": "stdout",
          "output_type": "stream",
          "text": [
            "0\n",
            "ett\n",
            "2\n",
            "tre\n"
          ]
        }
      ],
      "source": [
        "lista = [0, \"ett\", 2, \"tre\"]\n",
        "for x in lista:\n",
        "    print(x)"
      ]
    },
    {
      "cell_type": "markdown",
      "id": "dental-hydrogen",
      "metadata": {
        "id": "dental-hydrogen"
      },
      "source": [
        "# NumPy\n",
        "Python saknar datastrukturen array. Bl.a. därför används Python-biblioteket NumPy"
      ]
    },
    {
      "cell_type": "markdown",
      "id": "czech-legend",
      "metadata": {
        "id": "czech-legend"
      },
      "source": [
        "### vektor med 6 element"
      ]
    },
    {
      "cell_type": "code",
      "execution_count": null,
      "id": "understood-native",
      "metadata": {
        "id": "understood-native",
        "outputId": "0c8bc9c0-fa49-4a5d-b5aa-bf5deee30730"
      },
      "outputs": [
        {
          "name": "stdout",
          "output_type": "stream",
          "text": [
            "(6,)\n",
            "1\n"
          ]
        },
        {
          "data": {
            "text/plain": [
              "array([1, 2, 3, 4, 5, 6])"
            ]
          },
          "execution_count": 28,
          "metadata": {},
          "output_type": "execute_result"
        }
      ],
      "source": [
        "import numpy as np\n",
        "x1 = np.array([1, 2, 3, 4, 5, 6])\n",
        "print(x1.shape)\n",
        "print(x1.ndim)\n",
        "x1"
      ]
    },
    {
      "cell_type": "code",
      "execution_count": null,
      "id": "tight-staff",
      "metadata": {
        "id": "tight-staff",
        "outputId": "87b99b41-1b24-4fa4-f115-49ed18ef4871"
      },
      "outputs": [
        {
          "data": {
            "text/plain": [
              "1"
            ]
          },
          "execution_count": 29,
          "metadata": {},
          "output_type": "execute_result"
        }
      ],
      "source": [
        "# index börjar på 0\n",
        "x1[0]"
      ]
    },
    {
      "cell_type": "code",
      "execution_count": null,
      "id": "indonesian-scroll",
      "metadata": {
        "id": "indonesian-scroll",
        "outputId": "0ae0b2e9-ee15-4975-9c1d-b87a11bc9430"
      },
      "outputs": [
        {
          "data": {
            "text/plain": [
              "4"
            ]
          },
          "execution_count": 30,
          "metadata": {},
          "output_type": "execute_result"
        }
      ],
      "source": [
        "x1[3]"
      ]
    },
    {
      "cell_type": "code",
      "execution_count": null,
      "id": "neither-christian",
      "metadata": {
        "id": "neither-christian",
        "outputId": "2b69c2d4-b2d1-465f-9bd0-6cefc88da1b2"
      },
      "outputs": [
        {
          "data": {
            "text/plain": [
              "6"
            ]
          },
          "execution_count": 31,
          "metadata": {},
          "output_type": "execute_result"
        }
      ],
      "source": [
        "x1[-1]"
      ]
    },
    {
      "cell_type": "markdown",
      "id": "mysterious-invitation",
      "metadata": {
        "id": "mysterious-invitation"
      },
      "source": [
        "### matris med 2 rader och 3 kolumner"
      ]
    },
    {
      "cell_type": "code",
      "execution_count": null,
      "id": "arctic-recommendation",
      "metadata": {
        "id": "arctic-recommendation",
        "outputId": "f82e2e4b-2037-4c61-a93f-7ac735a48526"
      },
      "outputs": [
        {
          "name": "stdout",
          "output_type": "stream",
          "text": [
            "(2, 3)\n",
            "2\n"
          ]
        },
        {
          "data": {
            "text/plain": [
              "array([[1, 2, 3],\n",
              "       [4, 5, 6]])"
            ]
          },
          "execution_count": 32,
          "metadata": {},
          "output_type": "execute_result"
        }
      ],
      "source": [
        "x2 = np.array([[1, 2, 3], [4, 5, 6]])\n",
        "print(x2.shape)\n",
        "print(x2.ndim)\n",
        "x2"
      ]
    },
    {
      "cell_type": "code",
      "execution_count": null,
      "id": "incomplete-denver",
      "metadata": {
        "id": "incomplete-denver",
        "outputId": "08ea1515-3d5e-4beb-d573-30acfc17f069"
      },
      "outputs": [
        {
          "data": {
            "text/plain": [
              "6"
            ]
          },
          "execution_count": 33,
          "metadata": {},
          "output_type": "execute_result"
        }
      ],
      "source": [
        "x2[1, 2]"
      ]
    },
    {
      "cell_type": "markdown",
      "id": "touched-worth",
      "metadata": {
        "id": "touched-worth"
      },
      "source": [
        "### slicing"
      ]
    },
    {
      "cell_type": "code",
      "execution_count": null,
      "id": "chief-collection",
      "metadata": {
        "id": "chief-collection",
        "outputId": "57e330ef-515a-42f2-cdc4-faf6efd35333"
      },
      "outputs": [
        {
          "data": {
            "text/plain": [
              "array([4, 5, 6])"
            ]
          },
          "execution_count": 34,
          "metadata": {},
          "output_type": "execute_result"
        }
      ],
      "source": [
        "# från index 3 och framåt\n",
        "x1[3:]"
      ]
    },
    {
      "cell_type": "code",
      "execution_count": null,
      "id": "clean-airport",
      "metadata": {
        "id": "clean-airport",
        "outputId": "9d8f1192-ac58-460f-f631-b9f74c0eaf8e"
      },
      "outputs": [
        {
          "data": {
            "text/plain": [
              "array([1, 2, 3])"
            ]
          },
          "execution_count": 35,
          "metadata": {},
          "output_type": "execute_result"
        }
      ],
      "source": [
        "# från start och till och med index 2\n",
        "x1[:3]"
      ]
    },
    {
      "cell_type": "code",
      "execution_count": null,
      "id": "destroyed-middle",
      "metadata": {
        "id": "destroyed-middle",
        "outputId": "959440ae-3fd6-45fe-9990-0938e54cfc97"
      },
      "outputs": [
        {
          "data": {
            "text/plain": [
              "array([[1, 2, 3],\n",
              "       [4, 5, 6]])"
            ]
          },
          "execution_count": 36,
          "metadata": {},
          "output_type": "execute_result"
        }
      ],
      "source": [
        "x2[:]"
      ]
    },
    {
      "cell_type": "code",
      "execution_count": null,
      "id": "broken-institution",
      "metadata": {
        "id": "broken-institution",
        "outputId": "98eaab98-b076-4a8e-8610-3936e43e5df4"
      },
      "outputs": [
        {
          "data": {
            "text/plain": [
              "array([[1, 2, 3]])"
            ]
          },
          "execution_count": 37,
          "metadata": {},
          "output_type": "execute_result"
        }
      ],
      "source": [
        "# första raden, alla kolumner\n",
        "x2[:1, :]"
      ]
    },
    {
      "cell_type": "code",
      "execution_count": null,
      "id": "royal-announcement",
      "metadata": {
        "id": "royal-announcement",
        "outputId": "d2fcf639-1b42-4925-d98e-104792775c2e"
      },
      "outputs": [
        {
          "data": {
            "text/plain": [
              "array([3, 6])"
            ]
          },
          "execution_count": 38,
          "metadata": {},
          "output_type": "execute_result"
        }
      ],
      "source": [
        "# alla rader, sista kolumnen\n",
        "x2[:, -1]"
      ]
    },
    {
      "cell_type": "code",
      "execution_count": null,
      "id": "desirable-aaron",
      "metadata": {
        "id": "desirable-aaron"
      },
      "outputs": [],
      "source": []
    }
  ],
  "metadata": {
    "kernelspec": {
      "display_name": "Python 3",
      "language": "python",
      "name": "python3"
    },
    "language_info": {
      "codemirror_mode": {
        "name": "ipython",
        "version": 3
      },
      "file_extension": ".py",
      "mimetype": "text/x-python",
      "name": "python",
      "nbconvert_exporter": "python",
      "pygments_lexer": "ipython3",
      "version": "3.7.4"
    },
    "colab": {
      "provenance": [],
      "include_colab_link": true
    }
  },
  "nbformat": 4,
  "nbformat_minor": 5
}